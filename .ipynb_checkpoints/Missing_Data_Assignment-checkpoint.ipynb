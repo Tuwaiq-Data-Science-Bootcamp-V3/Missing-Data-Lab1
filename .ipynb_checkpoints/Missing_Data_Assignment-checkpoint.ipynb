{
 "cells": [
  {
   "cell_type": "markdown",
   "id": "modified-designation",
   "metadata": {},
   "source": [
    "### Import your libraries"
   ]
  },
  {
   "cell_type": "code",
   "execution_count": 620,
   "id": "offensive-lesbian",
   "metadata": {},
   "outputs": [],
   "source": [
    "import pandas as pd"
   ]
  },
  {
   "cell_type": "markdown",
   "id": "israeli-dialogue",
   "metadata": {},
   "source": [
    "### Load your dataset"
   ]
  },
  {
   "cell_type": "code",
   "execution_count": 621,
   "id": "typical-wrong",
   "metadata": {},
   "outputs": [],
   "source": [
    "df  = pd.read_csv('HR_Missing_Values.csv')"
   ]
  },
  {
   "cell_type": "markdown",
   "id": "federal-television",
   "metadata": {},
   "source": [
    "### Explore your data \n",
    "\n",
    "* First 5 recods\n",
    "* Last 5 records \n",
    "* Check data type\n",
    "* Show statistical summary \n",
    "* Is there any missing values ?\n",
    "* Applay two more data analysis from your choose "
   ]
  },
  {
   "cell_type": "code",
   "execution_count": 622,
   "id": "experienced-democrat",
   "metadata": {},
   "outputs": [
    {
     "data": {
      "text/html": [
       "<div>\n",
       "<style scoped>\n",
       "    .dataframe tbody tr th:only-of-type {\n",
       "        vertical-align: middle;\n",
       "    }\n",
       "\n",
       "    .dataframe tbody tr th {\n",
       "        vertical-align: top;\n",
       "    }\n",
       "\n",
       "    .dataframe thead th {\n",
       "        text-align: right;\n",
       "    }\n",
       "</style>\n",
       "<table border=\"1\" class=\"dataframe\">\n",
       "  <thead>\n",
       "    <tr style=\"text-align: right;\">\n",
       "      <th></th>\n",
       "      <th>Employee_Name</th>\n",
       "      <th>EmpID</th>\n",
       "      <th>Salary</th>\n",
       "      <th>PositionID</th>\n",
       "      <th>Position</th>\n",
       "      <th>DOB</th>\n",
       "      <th>Sex</th>\n",
       "      <th>MaritalDesc</th>\n",
       "      <th>RaceDesc</th>\n",
       "      <th>DateofHire</th>\n",
       "      <th>DateofTermination</th>\n",
       "      <th>Department</th>\n",
       "      <th>ManagerName</th>\n",
       "      <th>ManagerID</th>\n",
       "      <th>RecruitmentSource</th>\n",
       "      <th>Absences</th>\n",
       "    </tr>\n",
       "  </thead>\n",
       "  <tbody>\n",
       "    <tr>\n",
       "      <th>0</th>\n",
       "      <td>Adinolfi, Wilson  K</td>\n",
       "      <td>10026</td>\n",
       "      <td>62506.0</td>\n",
       "      <td>19</td>\n",
       "      <td>Production Technician I</td>\n",
       "      <td>07/10/83</td>\n",
       "      <td>M</td>\n",
       "      <td>Single</td>\n",
       "      <td>White</td>\n",
       "      <td>7/5/2011</td>\n",
       "      <td>NaN</td>\n",
       "      <td>Production</td>\n",
       "      <td>Michael Albert</td>\n",
       "      <td>22.0</td>\n",
       "      <td>LinkedIn</td>\n",
       "      <td>1.0</td>\n",
       "    </tr>\n",
       "    <tr>\n",
       "      <th>1</th>\n",
       "      <td>Ait Sidi, Karthikeyan</td>\n",
       "      <td>10084</td>\n",
       "      <td>104437.0</td>\n",
       "      <td>27</td>\n",
       "      <td>Sr. DBA</td>\n",
       "      <td>05/05/75</td>\n",
       "      <td>M</td>\n",
       "      <td>Married</td>\n",
       "      <td>White</td>\n",
       "      <td>3/30/2015</td>\n",
       "      <td>6/16/2016</td>\n",
       "      <td>IT/IS</td>\n",
       "      <td>Simon Roup</td>\n",
       "      <td>4.0</td>\n",
       "      <td>Indeed</td>\n",
       "      <td>17.0</td>\n",
       "    </tr>\n",
       "    <tr>\n",
       "      <th>2</th>\n",
       "      <td>Akinkuolie, Sarah</td>\n",
       "      <td>10196</td>\n",
       "      <td>64955.0</td>\n",
       "      <td>20</td>\n",
       "      <td>Production Technician II</td>\n",
       "      <td>09/19/88</td>\n",
       "      <td>F</td>\n",
       "      <td>Married</td>\n",
       "      <td>White</td>\n",
       "      <td>7/5/2011</td>\n",
       "      <td>9/24/2012</td>\n",
       "      <td>Production</td>\n",
       "      <td>Kissy Sullivan</td>\n",
       "      <td>20.0</td>\n",
       "      <td>LinkedIn</td>\n",
       "      <td>3.0</td>\n",
       "    </tr>\n",
       "    <tr>\n",
       "      <th>3</th>\n",
       "      <td>Alagbe,Trina</td>\n",
       "      <td>10088</td>\n",
       "      <td>64991.0</td>\n",
       "      <td>19</td>\n",
       "      <td>Production Technician I</td>\n",
       "      <td>NaN</td>\n",
       "      <td>F</td>\n",
       "      <td>Married</td>\n",
       "      <td>White</td>\n",
       "      <td>1/7/2008</td>\n",
       "      <td>NaN</td>\n",
       "      <td>Production</td>\n",
       "      <td>Elijiah Gray</td>\n",
       "      <td>16.0</td>\n",
       "      <td>Indeed</td>\n",
       "      <td>15.0</td>\n",
       "    </tr>\n",
       "    <tr>\n",
       "      <th>4</th>\n",
       "      <td>NaN</td>\n",
       "      <td>10069</td>\n",
       "      <td>50825.0</td>\n",
       "      <td>19</td>\n",
       "      <td>Production Technician I</td>\n",
       "      <td>09/08/89</td>\n",
       "      <td>F</td>\n",
       "      <td>Divorced</td>\n",
       "      <td>White</td>\n",
       "      <td>7/11/2011</td>\n",
       "      <td>9/6/2016</td>\n",
       "      <td>Production</td>\n",
       "      <td>Webster Butler</td>\n",
       "      <td>39.0</td>\n",
       "      <td>Google Search</td>\n",
       "      <td>2.0</td>\n",
       "    </tr>\n",
       "  </tbody>\n",
       "</table>\n",
       "</div>"
      ],
      "text/plain": [
       "              Employee_Name  EmpID    Salary  PositionID  \\\n",
       "0       Adinolfi, Wilson  K  10026   62506.0          19   \n",
       "1  Ait Sidi, Karthikeyan     10084  104437.0          27   \n",
       "2         Akinkuolie, Sarah  10196   64955.0          20   \n",
       "3              Alagbe,Trina  10088   64991.0          19   \n",
       "4                       NaN  10069   50825.0          19   \n",
       "\n",
       "                   Position       DOB Sex MaritalDesc RaceDesc DateofHire  \\\n",
       "0   Production Technician I  07/10/83  M       Single    White   7/5/2011   \n",
       "1                   Sr. DBA  05/05/75  M      Married    White  3/30/2015   \n",
       "2  Production Technician II  09/19/88   F     Married    White   7/5/2011   \n",
       "3   Production Technician I       NaN   F     Married    White   1/7/2008   \n",
       "4   Production Technician I  09/08/89   F    Divorced    White  7/11/2011   \n",
       "\n",
       "  DateofTermination         Department     ManagerName  ManagerID  \\\n",
       "0               NaN  Production         Michael Albert       22.0   \n",
       "1         6/16/2016              IT/IS      Simon Roup        4.0   \n",
       "2         9/24/2012  Production         Kissy Sullivan       20.0   \n",
       "3               NaN  Production           Elijiah Gray       16.0   \n",
       "4          9/6/2016  Production         Webster Butler       39.0   \n",
       "\n",
       "  RecruitmentSource  Absences  \n",
       "0          LinkedIn       1.0  \n",
       "1            Indeed      17.0  \n",
       "2          LinkedIn       3.0  \n",
       "3            Indeed      15.0  \n",
       "4     Google Search       2.0  "
      ]
     },
     "execution_count": 622,
     "metadata": {},
     "output_type": "execute_result"
    }
   ],
   "source": [
    "df.head()"
   ]
  },
  {
   "cell_type": "code",
   "execution_count": 623,
   "id": "missing-relevance",
   "metadata": {},
   "outputs": [
    {
     "data": {
      "text/html": [
       "<div>\n",
       "<style scoped>\n",
       "    .dataframe tbody tr th:only-of-type {\n",
       "        vertical-align: middle;\n",
       "    }\n",
       "\n",
       "    .dataframe tbody tr th {\n",
       "        vertical-align: top;\n",
       "    }\n",
       "\n",
       "    .dataframe thead th {\n",
       "        text-align: right;\n",
       "    }\n",
       "</style>\n",
       "<table border=\"1\" class=\"dataframe\">\n",
       "  <thead>\n",
       "    <tr style=\"text-align: right;\">\n",
       "      <th></th>\n",
       "      <th>Employee_Name</th>\n",
       "      <th>EmpID</th>\n",
       "      <th>Salary</th>\n",
       "      <th>PositionID</th>\n",
       "      <th>Position</th>\n",
       "      <th>DOB</th>\n",
       "      <th>Sex</th>\n",
       "      <th>MaritalDesc</th>\n",
       "      <th>RaceDesc</th>\n",
       "      <th>DateofHire</th>\n",
       "      <th>DateofTermination</th>\n",
       "      <th>Department</th>\n",
       "      <th>ManagerName</th>\n",
       "      <th>ManagerID</th>\n",
       "      <th>RecruitmentSource</th>\n",
       "      <th>Absences</th>\n",
       "    </tr>\n",
       "  </thead>\n",
       "  <tbody>\n",
       "    <tr>\n",
       "      <th>306</th>\n",
       "      <td>Woodson, Jason</td>\n",
       "      <td>10135</td>\n",
       "      <td>65893.0</td>\n",
       "      <td>20</td>\n",
       "      <td>Production Technician II</td>\n",
       "      <td>05/11/85</td>\n",
       "      <td>M</td>\n",
       "      <td>Single</td>\n",
       "      <td>White</td>\n",
       "      <td>7/7/2014</td>\n",
       "      <td>NaN</td>\n",
       "      <td>Production</td>\n",
       "      <td>Kissy Sullivan</td>\n",
       "      <td>20.0</td>\n",
       "      <td>LinkedIn</td>\n",
       "      <td>13.0</td>\n",
       "    </tr>\n",
       "    <tr>\n",
       "      <th>307</th>\n",
       "      <td>Ybarra, Catherine</td>\n",
       "      <td>10301</td>\n",
       "      <td>48513.0</td>\n",
       "      <td>19</td>\n",
       "      <td>Production Technician I</td>\n",
       "      <td>NaN</td>\n",
       "      <td>F</td>\n",
       "      <td>Single</td>\n",
       "      <td>Asian</td>\n",
       "      <td>9/2/2008</td>\n",
       "      <td>9/29/2015</td>\n",
       "      <td>Production</td>\n",
       "      <td>Brannon Miller</td>\n",
       "      <td>12.0</td>\n",
       "      <td>Google Search</td>\n",
       "      <td>4.0</td>\n",
       "    </tr>\n",
       "    <tr>\n",
       "      <th>308</th>\n",
       "      <td>NaN</td>\n",
       "      <td>10010</td>\n",
       "      <td>220450.0</td>\n",
       "      <td>6</td>\n",
       "      <td>CIO</td>\n",
       "      <td>NaN</td>\n",
       "      <td>F</td>\n",
       "      <td>Single</td>\n",
       "      <td>White</td>\n",
       "      <td>4/10/2010</td>\n",
       "      <td>NaN</td>\n",
       "      <td>IT/IS</td>\n",
       "      <td>Janet King</td>\n",
       "      <td>2.0</td>\n",
       "      <td>Employee Referral</td>\n",
       "      <td>16.0</td>\n",
       "    </tr>\n",
       "    <tr>\n",
       "      <th>309</th>\n",
       "      <td>Zhou, Julia</td>\n",
       "      <td>10043</td>\n",
       "      <td>89292.0</td>\n",
       "      <td>9</td>\n",
       "      <td>Data Analyst</td>\n",
       "      <td>02/24/79</td>\n",
       "      <td>F</td>\n",
       "      <td>Single</td>\n",
       "      <td>White</td>\n",
       "      <td>3/30/2015</td>\n",
       "      <td>NaN</td>\n",
       "      <td>IT/IS</td>\n",
       "      <td>Simon Roup</td>\n",
       "      <td>4.0</td>\n",
       "      <td>Employee Referral</td>\n",
       "      <td>NaN</td>\n",
       "    </tr>\n",
       "    <tr>\n",
       "      <th>310</th>\n",
       "      <td>NaN</td>\n",
       "      <td>10271</td>\n",
       "      <td>45046.0</td>\n",
       "      <td>19</td>\n",
       "      <td>Production Technician I</td>\n",
       "      <td>08/17/78</td>\n",
       "      <td>F</td>\n",
       "      <td>Widowed</td>\n",
       "      <td>Asian</td>\n",
       "      <td>9/29/2014</td>\n",
       "      <td>NaN</td>\n",
       "      <td>Production</td>\n",
       "      <td>David Stanley</td>\n",
       "      <td>14.0</td>\n",
       "      <td>LinkedIn</td>\n",
       "      <td>2.0</td>\n",
       "    </tr>\n",
       "  </tbody>\n",
       "</table>\n",
       "</div>"
      ],
      "text/plain": [
       "          Employee_Name  EmpID    Salary  PositionID  \\\n",
       "306      Woodson, Jason  10135   65893.0          20   \n",
       "307  Ybarra, Catherine   10301   48513.0          19   \n",
       "308                 NaN  10010  220450.0           6   \n",
       "309         Zhou, Julia  10043   89292.0           9   \n",
       "310                 NaN  10271   45046.0          19   \n",
       "\n",
       "                     Position       DOB Sex MaritalDesc RaceDesc DateofHire  \\\n",
       "306  Production Technician II  05/11/85  M       Single    White   7/7/2014   \n",
       "307   Production Technician I       NaN   F      Single    Asian   9/2/2008   \n",
       "308                       CIO       NaN   F      Single    White  4/10/2010   \n",
       "309              Data Analyst  02/24/79   F      Single    White  3/30/2015   \n",
       "310   Production Technician I  08/17/78   F     Widowed    Asian  9/29/2014   \n",
       "\n",
       "    DateofTermination         Department     ManagerName  ManagerID  \\\n",
       "306               NaN  Production         Kissy Sullivan       20.0   \n",
       "307         9/29/2015  Production         Brannon Miller       12.0   \n",
       "308               NaN              IT/IS      Janet King        2.0   \n",
       "309               NaN              IT/IS      Simon Roup        4.0   \n",
       "310               NaN  Production          David Stanley       14.0   \n",
       "\n",
       "     RecruitmentSource  Absences  \n",
       "306           LinkedIn      13.0  \n",
       "307      Google Search       4.0  \n",
       "308  Employee Referral      16.0  \n",
       "309  Employee Referral       NaN  \n",
       "310           LinkedIn       2.0  "
      ]
     },
     "execution_count": 623,
     "metadata": {},
     "output_type": "execute_result"
    }
   ],
   "source": [
    "df.tail()"
   ]
  },
  {
   "cell_type": "code",
   "execution_count": 624,
   "id": "nuclear-checkout",
   "metadata": {},
   "outputs": [
    {
     "name": "stdout",
     "output_type": "stream",
     "text": [
      "<class 'pandas.core.frame.DataFrame'>\n",
      "RangeIndex: 311 entries, 0 to 310\n",
      "Data columns (total 16 columns):\n",
      " #   Column             Non-Null Count  Dtype  \n",
      "---  ------             --------------  -----  \n",
      " 0   Employee_Name      218 non-null    object \n",
      " 1   EmpID              311 non-null    int64  \n",
      " 2   Salary             249 non-null    float64\n",
      " 3   PositionID         311 non-null    int64  \n",
      " 4   Position           311 non-null    object \n",
      " 5   DOB                280 non-null    object \n",
      " 6   Sex                249 non-null    object \n",
      " 7   MaritalDesc        311 non-null    object \n",
      " 8   RaceDesc           311 non-null    object \n",
      " 9   DateofHire         311 non-null    object \n",
      " 10  DateofTermination  104 non-null    object \n",
      " 11  Department         311 non-null    object \n",
      " 12  ManagerName        311 non-null    object \n",
      " 13  ManagerID          303 non-null    float64\n",
      " 14  RecruitmentSource  311 non-null    object \n",
      " 15  Absences           280 non-null    float64\n",
      "dtypes: float64(3), int64(2), object(11)\n",
      "memory usage: 39.0+ KB\n"
     ]
    }
   ],
   "source": [
    "df.info()"
   ]
  },
  {
   "cell_type": "code",
   "execution_count": 625,
   "id": "headed-birmingham",
   "metadata": {},
   "outputs": [
    {
     "data": {
      "text/html": [
       "<div>\n",
       "<style scoped>\n",
       "    .dataframe tbody tr th:only-of-type {\n",
       "        vertical-align: middle;\n",
       "    }\n",
       "\n",
       "    .dataframe tbody tr th {\n",
       "        vertical-align: top;\n",
       "    }\n",
       "\n",
       "    .dataframe thead th {\n",
       "        text-align: right;\n",
       "    }\n",
       "</style>\n",
       "<table border=\"1\" class=\"dataframe\">\n",
       "  <thead>\n",
       "    <tr style=\"text-align: right;\">\n",
       "      <th></th>\n",
       "      <th>EmpID</th>\n",
       "      <th>Salary</th>\n",
       "      <th>PositionID</th>\n",
       "      <th>ManagerID</th>\n",
       "      <th>Absences</th>\n",
       "    </tr>\n",
       "  </thead>\n",
       "  <tbody>\n",
       "    <tr>\n",
       "      <th>count</th>\n",
       "      <td>311.000000</td>\n",
       "      <td>249.000000</td>\n",
       "      <td>311.000000</td>\n",
       "      <td>303.000000</td>\n",
       "      <td>280.000000</td>\n",
       "    </tr>\n",
       "    <tr>\n",
       "      <th>mean</th>\n",
       "      <td>10156.000000</td>\n",
       "      <td>67972.662651</td>\n",
       "      <td>16.845659</td>\n",
       "      <td>14.570957</td>\n",
       "      <td>10.128571</td>\n",
       "    </tr>\n",
       "    <tr>\n",
       "      <th>std</th>\n",
       "      <td>89.922189</td>\n",
       "      <td>22995.908395</td>\n",
       "      <td>6.223419</td>\n",
       "      <td>8.078306</td>\n",
       "      <td>5.946407</td>\n",
       "    </tr>\n",
       "    <tr>\n",
       "      <th>min</th>\n",
       "      <td>10001.000000</td>\n",
       "      <td>45046.000000</td>\n",
       "      <td>1.000000</td>\n",
       "      <td>1.000000</td>\n",
       "      <td>1.000000</td>\n",
       "    </tr>\n",
       "    <tr>\n",
       "      <th>25%</th>\n",
       "      <td>10078.500000</td>\n",
       "      <td>55315.000000</td>\n",
       "      <td>18.000000</td>\n",
       "      <td>10.000000</td>\n",
       "      <td>4.750000</td>\n",
       "    </tr>\n",
       "    <tr>\n",
       "      <th>50%</th>\n",
       "      <td>10156.000000</td>\n",
       "      <td>62957.000000</td>\n",
       "      <td>19.000000</td>\n",
       "      <td>15.000000</td>\n",
       "      <td>10.000000</td>\n",
       "    </tr>\n",
       "    <tr>\n",
       "      <th>75%</th>\n",
       "      <td>10233.500000</td>\n",
       "      <td>71707.000000</td>\n",
       "      <td>20.000000</td>\n",
       "      <td>19.000000</td>\n",
       "      <td>15.250000</td>\n",
       "    </tr>\n",
       "    <tr>\n",
       "      <th>max</th>\n",
       "      <td>10311.000000</td>\n",
       "      <td>220450.000000</td>\n",
       "      <td>30.000000</td>\n",
       "      <td>39.000000</td>\n",
       "      <td>20.000000</td>\n",
       "    </tr>\n",
       "  </tbody>\n",
       "</table>\n",
       "</div>"
      ],
      "text/plain": [
       "              EmpID         Salary  PositionID   ManagerID    Absences\n",
       "count    311.000000     249.000000  311.000000  303.000000  280.000000\n",
       "mean   10156.000000   67972.662651   16.845659   14.570957   10.128571\n",
       "std       89.922189   22995.908395    6.223419    8.078306    5.946407\n",
       "min    10001.000000   45046.000000    1.000000    1.000000    1.000000\n",
       "25%    10078.500000   55315.000000   18.000000   10.000000    4.750000\n",
       "50%    10156.000000   62957.000000   19.000000   15.000000   10.000000\n",
       "75%    10233.500000   71707.000000   20.000000   19.000000   15.250000\n",
       "max    10311.000000  220450.000000   30.000000   39.000000   20.000000"
      ]
     },
     "execution_count": 625,
     "metadata": {},
     "output_type": "execute_result"
    }
   ],
   "source": [
    "df.describe()"
   ]
  },
  {
   "cell_type": "code",
   "execution_count": 626,
   "id": "dominant-freeze",
   "metadata": {},
   "outputs": [
    {
     "data": {
      "text/plain": [
       "494"
      ]
     },
     "execution_count": 626,
     "metadata": {},
     "output_type": "execute_result"
    }
   ],
   "source": [
    "df.isnull().sum().sum() #there are 494 null values in total"
   ]
  },
  {
   "cell_type": "code",
   "execution_count": 627,
   "id": "cce66540",
   "metadata": {
    "scrolled": true
   },
   "outputs": [
    {
     "data": {
      "text/plain": [
       "Employee_Name         93\n",
       "EmpID                  0\n",
       "Salary                62\n",
       "PositionID             0\n",
       "Position               0\n",
       "DOB                   31\n",
       "Sex                   62\n",
       "MaritalDesc            0\n",
       "RaceDesc               0\n",
       "DateofHire             0\n",
       "DateofTermination    207\n",
       "Department             0\n",
       "ManagerName            0\n",
       "ManagerID              8\n",
       "RecruitmentSource      0\n",
       "Absences              31\n",
       "dtype: int64"
      ]
     },
     "execution_count": 627,
     "metadata": {},
     "output_type": "execute_result"
    }
   ],
   "source": [
    "df.isnull().sum()"
   ]
  },
  {
   "cell_type": "code",
   "execution_count": 628,
   "id": "bb9d8b45",
   "metadata": {},
   "outputs": [
    {
     "data": {
      "text/plain": [
       "67973"
      ]
     },
     "execution_count": 628,
     "metadata": {},
     "output_type": "execute_result"
    }
   ],
   "source": [
    "round(df['Salary'].mean())"
   ]
  },
  {
   "cell_type": "code",
   "execution_count": 629,
   "id": "1ed35049",
   "metadata": {},
   "outputs": [
    {
     "data": {
      "text/plain": [
       "528811803"
      ]
     },
     "execution_count": 629,
     "metadata": {},
     "output_type": "execute_result"
    }
   ],
   "source": [
    "round(df['Salary'].var())"
   ]
  },
  {
   "cell_type": "code",
   "execution_count": 630,
   "id": "61fcf536",
   "metadata": {},
   "outputs": [],
   "source": [
    "#df['Sex']=df['Sex'].astype(str)"
   ]
  },
  {
   "cell_type": "code",
   "execution_count": 631,
   "id": "24f42f72",
   "metadata": {},
   "outputs": [],
   "source": [
    "df['Sex'] = df['Sex'].str.strip()"
   ]
  },
  {
   "cell_type": "code",
   "execution_count": 632,
   "id": "1e467374",
   "metadata": {},
   "outputs": [],
   "source": [
    "df['Sex'].replace('M','Male',inplace=True)\n",
    "df['Sex'].replace('F','Female',inplace=True)\n",
    "df['Sex'].replace('nan','Uknown',inplace=True)"
   ]
  },
  {
   "cell_type": "code",
   "execution_count": 633,
   "id": "7d027ad3",
   "metadata": {
    "scrolled": false
   },
   "outputs": [
    {
     "data": {
      "text/plain": [
       "Female    141\n",
       "Male      108\n",
       "Name: Sex, dtype: int64"
      ]
     },
     "execution_count": 633,
     "metadata": {},
     "output_type": "execute_result"
    }
   ],
   "source": [
    "df['Sex'].value_counts()"
   ]
  },
  {
   "cell_type": "code",
   "execution_count": 634,
   "id": "ec27e0ab",
   "metadata": {},
   "outputs": [],
   "source": [
    "dfmale=df.loc[df[\"Sex\"] == 'Male']\n",
    "dffemale=df.loc[df[\"Sex\"] == 'Female']"
   ]
  },
  {
   "cell_type": "code",
   "execution_count": 635,
   "id": "acfd4bef",
   "metadata": {},
   "outputs": [
    {
     "data": {
      "text/html": [
       "<div>\n",
       "<style scoped>\n",
       "    .dataframe tbody tr th:only-of-type {\n",
       "        vertical-align: middle;\n",
       "    }\n",
       "\n",
       "    .dataframe tbody tr th {\n",
       "        vertical-align: top;\n",
       "    }\n",
       "\n",
       "    .dataframe thead th {\n",
       "        text-align: right;\n",
       "    }\n",
       "</style>\n",
       "<table border=\"1\" class=\"dataframe\">\n",
       "  <thead>\n",
       "    <tr style=\"text-align: right;\">\n",
       "      <th></th>\n",
       "      <th>Employee_Name</th>\n",
       "      <th>EmpID</th>\n",
       "      <th>Salary</th>\n",
       "      <th>PositionID</th>\n",
       "      <th>Position</th>\n",
       "      <th>DOB</th>\n",
       "      <th>Sex</th>\n",
       "      <th>MaritalDesc</th>\n",
       "      <th>RaceDesc</th>\n",
       "      <th>DateofHire</th>\n",
       "      <th>DateofTermination</th>\n",
       "      <th>Department</th>\n",
       "      <th>ManagerName</th>\n",
       "      <th>ManagerID</th>\n",
       "      <th>RecruitmentSource</th>\n",
       "      <th>Absences</th>\n",
       "    </tr>\n",
       "  </thead>\n",
       "  <tbody>\n",
       "    <tr>\n",
       "      <th>0</th>\n",
       "      <td>Adinolfi, Wilson  K</td>\n",
       "      <td>10026</td>\n",
       "      <td>62506.0</td>\n",
       "      <td>19</td>\n",
       "      <td>Production Technician I</td>\n",
       "      <td>07/10/83</td>\n",
       "      <td>Male</td>\n",
       "      <td>Single</td>\n",
       "      <td>White</td>\n",
       "      <td>7/5/2011</td>\n",
       "      <td>NaN</td>\n",
       "      <td>Production</td>\n",
       "      <td>Michael Albert</td>\n",
       "      <td>22.0</td>\n",
       "      <td>LinkedIn</td>\n",
       "      <td>1.0</td>\n",
       "    </tr>\n",
       "    <tr>\n",
       "      <th>1</th>\n",
       "      <td>Ait Sidi, Karthikeyan</td>\n",
       "      <td>10084</td>\n",
       "      <td>104437.0</td>\n",
       "      <td>27</td>\n",
       "      <td>Sr. DBA</td>\n",
       "      <td>05/05/75</td>\n",
       "      <td>Male</td>\n",
       "      <td>Married</td>\n",
       "      <td>White</td>\n",
       "      <td>3/30/2015</td>\n",
       "      <td>6/16/2016</td>\n",
       "      <td>IT/IS</td>\n",
       "      <td>Simon Roup</td>\n",
       "      <td>4.0</td>\n",
       "      <td>Indeed</td>\n",
       "      <td>17.0</td>\n",
       "    </tr>\n",
       "    <tr>\n",
       "      <th>7</th>\n",
       "      <td>Athwal, Sam</td>\n",
       "      <td>10062</td>\n",
       "      <td>59365.0</td>\n",
       "      <td>19</td>\n",
       "      <td>Production Technician I</td>\n",
       "      <td>02/18/83</td>\n",
       "      <td>Male</td>\n",
       "      <td>Widowed</td>\n",
       "      <td>White</td>\n",
       "      <td>9/30/2013</td>\n",
       "      <td>NaN</td>\n",
       "      <td>Production</td>\n",
       "      <td>Ketsia Liebig</td>\n",
       "      <td>19.0</td>\n",
       "      <td>Employee Referral</td>\n",
       "      <td>19.0</td>\n",
       "    </tr>\n",
       "    <tr>\n",
       "      <th>11</th>\n",
       "      <td>NaN</td>\n",
       "      <td>10242</td>\n",
       "      <td>47211.0</td>\n",
       "      <td>19</td>\n",
       "      <td>Production Technician I</td>\n",
       "      <td>02/21/74</td>\n",
       "      <td>Male</td>\n",
       "      <td>Married</td>\n",
       "      <td>Black or African American</td>\n",
       "      <td>4/2/2012</td>\n",
       "      <td>9/19/2016</td>\n",
       "      <td>Production</td>\n",
       "      <td>Kissy Sullivan</td>\n",
       "      <td>20.0</td>\n",
       "      <td>Diversity Job Fair</td>\n",
       "      <td>15.0</td>\n",
       "    </tr>\n",
       "    <tr>\n",
       "      <th>12</th>\n",
       "      <td>Barbossa, Hector</td>\n",
       "      <td>10012</td>\n",
       "      <td>92328.0</td>\n",
       "      <td>9</td>\n",
       "      <td>Data Analyst</td>\n",
       "      <td>07/04/88</td>\n",
       "      <td>Male</td>\n",
       "      <td>Divorced</td>\n",
       "      <td>Black or African American</td>\n",
       "      <td>11/10/2014</td>\n",
       "      <td>NaN</td>\n",
       "      <td>IT/IS</td>\n",
       "      <td>Simon Roup</td>\n",
       "      <td>4.0</td>\n",
       "      <td>Diversity Job Fair</td>\n",
       "      <td>9.0</td>\n",
       "    </tr>\n",
       "  </tbody>\n",
       "</table>\n",
       "</div>"
      ],
      "text/plain": [
       "               Employee_Name  EmpID    Salary  PositionID  \\\n",
       "0        Adinolfi, Wilson  K  10026   62506.0          19   \n",
       "1   Ait Sidi, Karthikeyan     10084  104437.0          27   \n",
       "7                Athwal, Sam  10062   59365.0          19   \n",
       "11                       NaN  10242   47211.0          19   \n",
       "12          Barbossa, Hector  10012   92328.0           9   \n",
       "\n",
       "                   Position       DOB   Sex MaritalDesc  \\\n",
       "0   Production Technician I  07/10/83  Male      Single   \n",
       "1                   Sr. DBA  05/05/75  Male     Married   \n",
       "7   Production Technician I  02/18/83  Male     Widowed   \n",
       "11  Production Technician I  02/21/74  Male     Married   \n",
       "12             Data Analyst  07/04/88  Male    Divorced   \n",
       "\n",
       "                     RaceDesc  DateofHire DateofTermination  \\\n",
       "0                       White    7/5/2011               NaN   \n",
       "1                       White   3/30/2015         6/16/2016   \n",
       "7                       White   9/30/2013               NaN   \n",
       "11  Black or African American    4/2/2012         9/19/2016   \n",
       "12  Black or African American  11/10/2014               NaN   \n",
       "\n",
       "           Department     ManagerName  ManagerID   RecruitmentSource  Absences  \n",
       "0   Production         Michael Albert       22.0            LinkedIn       1.0  \n",
       "1               IT/IS      Simon Roup        4.0              Indeed      17.0  \n",
       "7   Production          Ketsia Liebig       19.0   Employee Referral      19.0  \n",
       "11  Production         Kissy Sullivan       20.0  Diversity Job Fair      15.0  \n",
       "12              IT/IS      Simon Roup        4.0  Diversity Job Fair       9.0  "
      ]
     },
     "execution_count": 635,
     "metadata": {},
     "output_type": "execute_result"
    }
   ],
   "source": [
    "dfmale.head()"
   ]
  },
  {
   "cell_type": "code",
   "execution_count": 636,
   "id": "5c6d11af",
   "metadata": {},
   "outputs": [
    {
     "data": {
      "text/html": [
       "<div>\n",
       "<style scoped>\n",
       "    .dataframe tbody tr th:only-of-type {\n",
       "        vertical-align: middle;\n",
       "    }\n",
       "\n",
       "    .dataframe tbody tr th {\n",
       "        vertical-align: top;\n",
       "    }\n",
       "\n",
       "    .dataframe thead th {\n",
       "        text-align: right;\n",
       "    }\n",
       "</style>\n",
       "<table border=\"1\" class=\"dataframe\">\n",
       "  <thead>\n",
       "    <tr style=\"text-align: right;\">\n",
       "      <th></th>\n",
       "      <th>Employee_Name</th>\n",
       "      <th>EmpID</th>\n",
       "      <th>Salary</th>\n",
       "      <th>PositionID</th>\n",
       "      <th>Position</th>\n",
       "      <th>DOB</th>\n",
       "      <th>Sex</th>\n",
       "      <th>MaritalDesc</th>\n",
       "      <th>RaceDesc</th>\n",
       "      <th>DateofHire</th>\n",
       "      <th>DateofTermination</th>\n",
       "      <th>Department</th>\n",
       "      <th>ManagerName</th>\n",
       "      <th>ManagerID</th>\n",
       "      <th>RecruitmentSource</th>\n",
       "      <th>Absences</th>\n",
       "    </tr>\n",
       "  </thead>\n",
       "  <tbody>\n",
       "    <tr>\n",
       "      <th>2</th>\n",
       "      <td>Akinkuolie, Sarah</td>\n",
       "      <td>10196</td>\n",
       "      <td>64955.0</td>\n",
       "      <td>20</td>\n",
       "      <td>Production Technician II</td>\n",
       "      <td>09/19/88</td>\n",
       "      <td>Female</td>\n",
       "      <td>Married</td>\n",
       "      <td>White</td>\n",
       "      <td>7/5/2011</td>\n",
       "      <td>9/24/2012</td>\n",
       "      <td>Production</td>\n",
       "      <td>Kissy Sullivan</td>\n",
       "      <td>20.0</td>\n",
       "      <td>LinkedIn</td>\n",
       "      <td>3.0</td>\n",
       "    </tr>\n",
       "    <tr>\n",
       "      <th>3</th>\n",
       "      <td>Alagbe,Trina</td>\n",
       "      <td>10088</td>\n",
       "      <td>64991.0</td>\n",
       "      <td>19</td>\n",
       "      <td>Production Technician I</td>\n",
       "      <td>NaN</td>\n",
       "      <td>Female</td>\n",
       "      <td>Married</td>\n",
       "      <td>White</td>\n",
       "      <td>1/7/2008</td>\n",
       "      <td>NaN</td>\n",
       "      <td>Production</td>\n",
       "      <td>Elijiah Gray</td>\n",
       "      <td>16.0</td>\n",
       "      <td>Indeed</td>\n",
       "      <td>15.0</td>\n",
       "    </tr>\n",
       "    <tr>\n",
       "      <th>4</th>\n",
       "      <td>NaN</td>\n",
       "      <td>10069</td>\n",
       "      <td>50825.0</td>\n",
       "      <td>19</td>\n",
       "      <td>Production Technician I</td>\n",
       "      <td>09/08/89</td>\n",
       "      <td>Female</td>\n",
       "      <td>Divorced</td>\n",
       "      <td>White</td>\n",
       "      <td>7/11/2011</td>\n",
       "      <td>9/6/2016</td>\n",
       "      <td>Production</td>\n",
       "      <td>Webster Butler</td>\n",
       "      <td>39.0</td>\n",
       "      <td>Google Search</td>\n",
       "      <td>2.0</td>\n",
       "    </tr>\n",
       "    <tr>\n",
       "      <th>5</th>\n",
       "      <td>NaN</td>\n",
       "      <td>10002</td>\n",
       "      <td>57568.0</td>\n",
       "      <td>19</td>\n",
       "      <td>Production Technician I</td>\n",
       "      <td>05/22/77</td>\n",
       "      <td>Female</td>\n",
       "      <td>Single</td>\n",
       "      <td>White</td>\n",
       "      <td>1/9/2012</td>\n",
       "      <td>NaN</td>\n",
       "      <td>Production</td>\n",
       "      <td>Amy Dunn</td>\n",
       "      <td>11.0</td>\n",
       "      <td>LinkedIn</td>\n",
       "      <td>15.0</td>\n",
       "    </tr>\n",
       "    <tr>\n",
       "      <th>6</th>\n",
       "      <td>Andreola, Colby</td>\n",
       "      <td>10194</td>\n",
       "      <td>95660.0</td>\n",
       "      <td>24</td>\n",
       "      <td>Software Engineer</td>\n",
       "      <td>05/24/79</td>\n",
       "      <td>Female</td>\n",
       "      <td>Single</td>\n",
       "      <td>White</td>\n",
       "      <td>11/10/2014</td>\n",
       "      <td>NaN</td>\n",
       "      <td>Software Engineering</td>\n",
       "      <td>Alex Sweetwater</td>\n",
       "      <td>10.0</td>\n",
       "      <td>LinkedIn</td>\n",
       "      <td>19.0</td>\n",
       "    </tr>\n",
       "  </tbody>\n",
       "</table>\n",
       "</div>"
      ],
      "text/plain": [
       "       Employee_Name  EmpID   Salary  PositionID                  Position  \\\n",
       "2  Akinkuolie, Sarah  10196  64955.0          20  Production Technician II   \n",
       "3       Alagbe,Trina  10088  64991.0          19   Production Technician I   \n",
       "4                NaN  10069  50825.0          19   Production Technician I   \n",
       "5                NaN  10002  57568.0          19   Production Technician I   \n",
       "6    Andreola, Colby  10194  95660.0          24         Software Engineer   \n",
       "\n",
       "        DOB     Sex MaritalDesc RaceDesc  DateofHire DateofTermination  \\\n",
       "2  09/19/88  Female     Married    White    7/5/2011         9/24/2012   \n",
       "3       NaN  Female     Married    White    1/7/2008               NaN   \n",
       "4  09/08/89  Female    Divorced    White   7/11/2011          9/6/2016   \n",
       "5  05/22/77  Female      Single    White    1/9/2012               NaN   \n",
       "6  05/24/79  Female      Single    White  11/10/2014               NaN   \n",
       "\n",
       "             Department      ManagerName  ManagerID RecruitmentSource  \\\n",
       "2     Production          Kissy Sullivan       20.0          LinkedIn   \n",
       "3     Production            Elijiah Gray       16.0            Indeed   \n",
       "4     Production          Webster Butler       39.0     Google Search   \n",
       "5     Production                Amy Dunn       11.0          LinkedIn   \n",
       "6  Software Engineering  Alex Sweetwater       10.0          LinkedIn   \n",
       "\n",
       "   Absences  \n",
       "2       3.0  \n",
       "3      15.0  \n",
       "4       2.0  \n",
       "5      15.0  \n",
       "6      19.0  "
      ]
     },
     "execution_count": 636,
     "metadata": {},
     "output_type": "execute_result"
    }
   ],
   "source": [
    "dffemale.head()"
   ]
  },
  {
   "cell_type": "code",
   "execution_count": 637,
   "id": "729d26ba",
   "metadata": {},
   "outputs": [
    {
     "data": {
      "text/plain": [
       "69338"
      ]
     },
     "execution_count": 637,
     "metadata": {},
     "output_type": "execute_result"
    }
   ],
   "source": [
    "round(dfmale['Salary'].mean())"
   ]
  },
  {
   "cell_type": "code",
   "execution_count": 638,
   "id": "a9b650e2",
   "metadata": {},
   "outputs": [
    {
     "data": {
      "text/plain": [
       "66265"
      ]
     },
     "execution_count": 638,
     "metadata": {},
     "output_type": "execute_result"
    }
   ],
   "source": [
    "round(dffemale['Salary'].mean())"
   ]
  },
  {
   "cell_type": "code",
   "execution_count": 639,
   "id": "f8f841ce",
   "metadata": {},
   "outputs": [
    {
     "data": {
      "text/plain": [
       "Production              209\n",
       "IT/IS                    50\n",
       "Sales                    31\n",
       "Software Engineering     11\n",
       "Admin Offices             9\n",
       "Executive Office          1\n",
       "Name: Department, dtype: int64"
      ]
     },
     "execution_count": 639,
     "metadata": {},
     "output_type": "execute_result"
    }
   ],
   "source": [
    "df['Department'].value_counts()"
   ]
  },
  {
   "cell_type": "markdown",
   "id": "actual-protection",
   "metadata": {},
   "source": [
    "### Do the following steps for each column with missing values.\n",
    "\n",
    "* Identity the column \n",
    "* How much precentage the missing value represents \n",
    "* What is the best way to handle these missing values and why\n",
    "* Apply your method to the column"
   ]
  },
  {
   "cell_type": "code",
   "execution_count": 640,
   "id": "incorporated-addition",
   "metadata": {},
   "outputs": [
    {
     "data": {
      "text/plain": [
       "Employee_Name         93\n",
       "EmpID                  0\n",
       "Salary                62\n",
       "PositionID             0\n",
       "Position               0\n",
       "DOB                   31\n",
       "Sex                   62\n",
       "MaritalDesc            0\n",
       "RaceDesc               0\n",
       "DateofHire             0\n",
       "DateofTermination    207\n",
       "Department             0\n",
       "ManagerName            0\n",
       "ManagerID              8\n",
       "RecruitmentSource      0\n",
       "Absences              31\n",
       "dtype: int64"
      ]
     },
     "execution_count": 640,
     "metadata": {},
     "output_type": "execute_result"
    }
   ],
   "source": [
    "df.isnull().sum()"
   ]
  },
  {
   "cell_type": "code",
   "execution_count": 641,
   "id": "upper-movie",
   "metadata": {},
   "outputs": [
    {
     "name": "stdout",
     "output_type": "stream",
     "text": [
      "1.588 %\n"
     ]
    }
   ],
   "source": [
    "print(round(df.isnull().sum().sum()/len(df),3),'%')"
   ]
  },
  {
   "cell_type": "markdown",
   "id": "5c8591c4",
   "metadata": {},
   "source": [
    "### Names"
   ]
  },
  {
   "cell_type": "markdown",
   "id": "59d66cf1",
   "metadata": {},
   "source": [
    "For the names I don't beleive we can impute or handle but in our case I guess no need to have employee name."
   ]
  },
  {
   "cell_type": "markdown",
   "id": "e64d62f8",
   "metadata": {},
   "source": [
    "### Salary"
   ]
  },
  {
   "cell_type": "markdown",
   "id": "0a3e5b01",
   "metadata": {},
   "source": [
    "On the other hand salary can be treated by filling with the mean if it is normally ditributed, and will check that by plot the distribution."
   ]
  },
  {
   "cell_type": "code",
   "execution_count": 642,
   "id": "12dde323",
   "metadata": {},
   "outputs": [],
   "source": [
    "import matplotlib.pyplot as plt\n",
    "import seaborn as sns"
   ]
  },
  {
   "cell_type": "code",
   "execution_count": 643,
   "id": "972a20cb",
   "metadata": {},
   "outputs": [
    {
     "name": "stderr",
     "output_type": "stream",
     "text": [
      "C:\\Users\\20his\\AppData\\Local\\Temp\\ipykernel_45172\\123241509.py:1: UserWarning: \n",
      "\n",
      "`distplot` is a deprecated function and will be removed in seaborn v0.14.0.\n",
      "\n",
      "Please adapt your code to use either `displot` (a figure-level function with\n",
      "similar flexibility) or `histplot` (an axes-level function for histograms).\n",
      "\n",
      "For a guide to updating your code to use the new functions, please see\n",
      "https://gist.github.com/mwaskom/de44147ed2974457ad6372750bbe5751\n",
      "\n",
      "  sns.distplot(df['Salary'], bins=20); #Plotting the Salary column\n"
     ]
    },
    {
     "data": {
      "image/png": "[encoded data removed]",
      "text/plain": [
       "<Figure size 640x480 with 1 Axes>"
      ]
     },
     "metadata": {},
     "output_type": "display_data"
    }
   ],
   "source": [
    "sns.distplot(df['Salary'], bins=20); #Plotting the Salary column\n",
    "\n"
   ]
  },
  {
   "cell_type": "markdown",
   "id": "30755d1f",
   "metadata": {},
   "source": [
    "We can conclude that it is not normal distributed so we will go with other method such as filling with the most frequent value or random filling, but after trying the random it changed the distribution of the data."
   ]
  },
  {
   "cell_type": "code",
   "execution_count": 644,
   "id": "0c8c8708",
   "metadata": {},
   "outputs": [],
   "source": [
    "import random\n",
    "#df['Salary'] = df['Salary'].apply(lambda v: random.random() )"
   ]
  },
  {
   "cell_type": "code",
   "execution_count": 645,
   "id": "13e559c8",
   "metadata": {},
   "outputs": [],
   "source": [
    "df['Salary'].fillna(df['Salary'].mean(),inplace=True)"
   ]
  },
  {
   "cell_type": "code",
   "execution_count": 646,
   "id": "41226c40",
   "metadata": {},
   "outputs": [],
   "source": [
    "df['Salary']=df['Salary'].astype(int)"
   ]
  },
  {
   "cell_type": "code",
   "execution_count": 647,
   "id": "4d1780dd",
   "metadata": {},
   "outputs": [
    {
     "name": "stderr",
     "output_type": "stream",
     "text": [
      "C:\\Users\\20his\\AppData\\Local\\Temp\\ipykernel_45172\\3938795864.py:1: UserWarning: \n",
      "\n",
      "`distplot` is a deprecated function and will be removed in seaborn v0.14.0.\n",
      "\n",
      "Please adapt your code to use either `displot` (a figure-level function with\n",
      "similar flexibility) or `histplot` (an axes-level function for histograms).\n",
      "\n",
      "For a guide to updating your code to use the new functions, please see\n",
      "https://gist.github.com/mwaskom/de44147ed2974457ad6372750bbe5751\n",
      "\n",
      "  sns.distplot(df['Salary'], bins=20);\n"
     ]
    },
    {
     "data": {
      "image/png": "[encoded data removed]",
      "text/plain": [
       "<Figure size 640x480 with 1 Axes>"
      ]
     },
     "metadata": {},
     "output_type": "display_data"
    }
   ],
   "source": [
    "sns.distplot(df['Salary'], bins=20); \n",
    "#Plotting the Salary column to check the change and we can conclude that the distribtion remained the shape\n"
   ]
  },
  {
   "cell_type": "code",
   "execution_count": 648,
   "id": "dc9bc02e",
   "metadata": {},
   "outputs": [],
   "source": [
    "dfmale=df.loc[df[\"Sex\"] == 'Male']\n",
    "dffemale=df.loc[df[\"Sex\"] == 'Female']"
   ]
  },
  {
   "cell_type": "code",
   "execution_count": 649,
   "id": "ae84c20a",
   "metadata": {},
   "outputs": [
    {
     "data": {
      "text/plain": [
       "68971"
      ]
     },
     "execution_count": 649,
     "metadata": {},
     "output_type": "execute_result"
    }
   ],
   "source": [
    "round(dfmale['Salary'].mean())\n"
   ]
  },
  {
   "cell_type": "code",
   "execution_count": 650,
   "id": "9bd38771",
   "metadata": {},
   "outputs": [
    {
     "data": {
      "text/plain": [
       "66580"
      ]
     },
     "execution_count": 650,
     "metadata": {},
     "output_type": "execute_result"
    }
   ],
   "source": [
    "round(dffemale['Salary'].mean())"
   ]
  },
  {
   "cell_type": "markdown",
   "id": "6cd2bd79",
   "metadata": {},
   "source": [
    "### DOB ====> Age"
   ]
  },
  {
   "cell_type": "markdown",
   "id": "a985d640",
   "metadata": {},
   "source": [
    "For date of birth we will convert it to int and then will take the mean for the total agaes and fill the null values and we added a new column for the ages."
   ]
  },
  {
   "cell_type": "code",
   "execution_count": 651,
   "id": "2cf6c51e",
   "metadata": {},
   "outputs": [],
   "source": [
    "import datetime as DT\n",
    "import io\n",
    "import numpy as np"
   ]
  },
  {
   "cell_type": "code",
   "execution_count": 652,
   "id": "48ffdab6",
   "metadata": {},
   "outputs": [],
   "source": [
    "df['DOB']=pd.to_datetime(df['DOB'], infer_datetime_format=True)"
   ]
  },
  {
   "cell_type": "code",
   "execution_count": 653,
   "id": "f0788f1e",
   "metadata": {},
   "outputs": [
    {
     "data": {
      "text/html": [
       "<div>\n",
       "<style scoped>\n",
       "    .dataframe tbody tr th:only-of-type {\n",
       "        vertical-align: middle;\n",
       "    }\n",
       "\n",
       "    .dataframe tbody tr th {\n",
       "        vertical-align: top;\n",
       "    }\n",
       "\n",
       "    .dataframe thead th {\n",
       "        text-align: right;\n",
       "    }\n",
       "</style>\n",
       "<table border=\"1\" class=\"dataframe\">\n",
       "  <thead>\n",
       "    <tr style=\"text-align: right;\">\n",
       "      <th></th>\n",
       "      <th>Employee_Name</th>\n",
       "      <th>EmpID</th>\n",
       "      <th>Salary</th>\n",
       "      <th>PositionID</th>\n",
       "      <th>Position</th>\n",
       "      <th>DOB</th>\n",
       "      <th>Sex</th>\n",
       "      <th>MaritalDesc</th>\n",
       "      <th>RaceDesc</th>\n",
       "      <th>DateofHire</th>\n",
       "      <th>DateofTermination</th>\n",
       "      <th>Department</th>\n",
       "      <th>ManagerName</th>\n",
       "      <th>ManagerID</th>\n",
       "      <th>RecruitmentSource</th>\n",
       "      <th>Absences</th>\n",
       "      <th>Age</th>\n",
       "    </tr>\n",
       "  </thead>\n",
       "  <tbody>\n",
       "    <tr>\n",
       "      <th>0</th>\n",
       "      <td>Adinolfi, Wilson  K</td>\n",
       "      <td>10026</td>\n",
       "      <td>62506</td>\n",
       "      <td>19</td>\n",
       "      <td>Production Technician I</td>\n",
       "      <td>1983-07-10</td>\n",
       "      <td>Male</td>\n",
       "      <td>Single</td>\n",
       "      <td>White</td>\n",
       "      <td>7/5/2011</td>\n",
       "      <td>NaN</td>\n",
       "      <td>Production</td>\n",
       "      <td>Michael Albert</td>\n",
       "      <td>22.0</td>\n",
       "      <td>LinkedIn</td>\n",
       "      <td>1.0</td>\n",
       "      <td>39.0</td>\n",
       "    </tr>\n",
       "    <tr>\n",
       "      <th>1</th>\n",
       "      <td>Ait Sidi, Karthikeyan</td>\n",
       "      <td>10084</td>\n",
       "      <td>104437</td>\n",
       "      <td>27</td>\n",
       "      <td>Sr. DBA</td>\n",
       "      <td>1975-05-05</td>\n",
       "      <td>Male</td>\n",
       "      <td>Married</td>\n",
       "      <td>White</td>\n",
       "      <td>3/30/2015</td>\n",
       "      <td>6/16/2016</td>\n",
       "      <td>IT/IS</td>\n",
       "      <td>Simon Roup</td>\n",
       "      <td>4.0</td>\n",
       "      <td>Indeed</td>\n",
       "      <td>17.0</td>\n",
       "      <td>48.0</td>\n",
       "    </tr>\n",
       "    <tr>\n",
       "      <th>2</th>\n",
       "      <td>Akinkuolie, Sarah</td>\n",
       "      <td>10196</td>\n",
       "      <td>64955</td>\n",
       "      <td>20</td>\n",
       "      <td>Production Technician II</td>\n",
       "      <td>1988-09-19</td>\n",
       "      <td>Female</td>\n",
       "      <td>Married</td>\n",
       "      <td>White</td>\n",
       "      <td>7/5/2011</td>\n",
       "      <td>9/24/2012</td>\n",
       "      <td>Production</td>\n",
       "      <td>Kissy Sullivan</td>\n",
       "      <td>20.0</td>\n",
       "      <td>LinkedIn</td>\n",
       "      <td>3.0</td>\n",
       "      <td>34.0</td>\n",
       "    </tr>\n",
       "    <tr>\n",
       "      <th>3</th>\n",
       "      <td>Alagbe,Trina</td>\n",
       "      <td>10088</td>\n",
       "      <td>64991</td>\n",
       "      <td>19</td>\n",
       "      <td>Production Technician I</td>\n",
       "      <td>NaT</td>\n",
       "      <td>Female</td>\n",
       "      <td>Married</td>\n",
       "      <td>White</td>\n",
       "      <td>1/7/2008</td>\n",
       "      <td>NaN</td>\n",
       "      <td>Production</td>\n",
       "      <td>Elijiah Gray</td>\n",
       "      <td>16.0</td>\n",
       "      <td>Indeed</td>\n",
       "      <td>15.0</td>\n",
       "      <td>NaN</td>\n",
       "    </tr>\n",
       "    <tr>\n",
       "      <th>4</th>\n",
       "      <td>NaN</td>\n",
       "      <td>10069</td>\n",
       "      <td>50825</td>\n",
       "      <td>19</td>\n",
       "      <td>Production Technician I</td>\n",
       "      <td>1989-09-08</td>\n",
       "      <td>Female</td>\n",
       "      <td>Divorced</td>\n",
       "      <td>White</td>\n",
       "      <td>7/11/2011</td>\n",
       "      <td>9/6/2016</td>\n",
       "      <td>Production</td>\n",
       "      <td>Webster Butler</td>\n",
       "      <td>39.0</td>\n",
       "      <td>Google Search</td>\n",
       "      <td>2.0</td>\n",
       "      <td>33.0</td>\n",
       "    </tr>\n",
       "  </tbody>\n",
       "</table>\n",
       "</div>"
      ],
      "text/plain": [
       "              Employee_Name  EmpID  Salary  PositionID  \\\n",
       "0       Adinolfi, Wilson  K  10026   62506          19   \n",
       "1  Ait Sidi, Karthikeyan     10084  104437          27   \n",
       "2         Akinkuolie, Sarah  10196   64955          20   \n",
       "3              Alagbe,Trina  10088   64991          19   \n",
       "4                       NaN  10069   50825          19   \n",
       "\n",
       "                   Position        DOB     Sex MaritalDesc RaceDesc  \\\n",
       "0   Production Technician I 1983-07-10    Male      Single    White   \n",
       "1                   Sr. DBA 1975-05-05    Male     Married    White   \n",
       "2  Production Technician II 1988-09-19  Female     Married    White   \n",
       "3   Production Technician I        NaT  Female     Married    White   \n",
       "4   Production Technician I 1989-09-08  Female    Divorced    White   \n",
       "\n",
       "  DateofHire DateofTermination         Department     ManagerName  ManagerID  \\\n",
       "0   7/5/2011               NaN  Production         Michael Albert       22.0   \n",
       "1  3/30/2015         6/16/2016              IT/IS      Simon Roup        4.0   \n",
       "2   7/5/2011         9/24/2012  Production         Kissy Sullivan       20.0   \n",
       "3   1/7/2008               NaN  Production           Elijiah Gray       16.0   \n",
       "4  7/11/2011          9/6/2016  Production         Webster Butler       39.0   \n",
       "\n",
       "  RecruitmentSource  Absences   Age  \n",
       "0          LinkedIn       1.0  39.0  \n",
       "1            Indeed      17.0  48.0  \n",
       "2          LinkedIn       3.0  34.0  \n",
       "3            Indeed      15.0   NaN  \n",
       "4     Google Search       2.0  33.0  "
      ]
     },
     "execution_count": 653,
     "metadata": {},
     "output_type": "execute_result"
    }
   ],
   "source": [
    "now = pd.Timestamp('now')\n",
    "df['DOB'] = pd.to_datetime(df['DOB'], format='Y/%m/%d')    # 1\n",
    "df['DOB'] = df['DOB'].where(df['DOB'] < now, df['DOB'] -  np.timedelta64(100, 'Y'))   # 2\n",
    "df['Age'] = (now - df['DOB']).astype('<m8[Y]')    # 3\n",
    "df.head()"
   ]
  },
  {
   "cell_type": "code",
   "execution_count": 654,
   "id": "ef5f18f8",
   "metadata": {},
   "outputs": [
    {
     "data": {
      "text/plain": [
       "44"
      ]
     },
     "execution_count": 654,
     "metadata": {},
     "output_type": "execute_result"
    }
   ],
   "source": [
    "round(df['Age'].mean())"
   ]
  },
  {
   "cell_type": "code",
   "execution_count": 655,
   "id": "f3dc0b42",
   "metadata": {},
   "outputs": [],
   "source": [
    "df['Age'].fillna(df['Age'].mean(),inplace=True)"
   ]
  },
  {
   "cell_type": "code",
   "execution_count": 656,
   "id": "f705c1d8",
   "metadata": {
    "scrolled": true
   },
   "outputs": [],
   "source": [
    "df['Age']=df['Age'].astype(int)"
   ]
  },
  {
   "cell_type": "code",
   "execution_count": 684,
   "id": "653b501c",
   "metadata": {
    "scrolled": true
   },
   "outputs": [
    {
     "data": {
      "text/plain": [
       "0"
      ]
     },
     "execution_count": 684,
     "metadata": {},
     "output_type": "execute_result"
    }
   ],
   "source": [
    "df['Age'].isnull().sum().sum()"
   ]
  },
  {
   "cell_type": "code",
   "execution_count": null,
   "id": "6c37c013",
   "metadata": {},
   "outputs": [],
   "source": []
  },
  {
   "cell_type": "markdown",
   "id": "c95b83b7",
   "metadata": {},
   "source": [
    "### Sex\n",
    "\n",
    "For sex column we can replace it with assumption that we can use gender guesser library."
   ]
  },
  {
   "cell_type": "code",
   "execution_count": 658,
   "id": "38f8e878",
   "metadata": {},
   "outputs": [],
   "source": [
    "#!pip install gender_guesser\n",
    "#!pip install xlrd\n",
    "#!pip install openpyxl\n"
   ]
  },
  {
   "cell_type": "markdown",
   "id": "183605be",
   "metadata": {},
   "source": [
    "### The following approch Didn't work"
   ]
  },
  {
   "cell_type": "code",
   "execution_count": 659,
   "id": "f71521ac",
   "metadata": {},
   "outputs": [
    {
     "data": {
      "text/plain": [
       "0           Adinolfi, Wilson  K\n",
       "1      Ait Sidi, Karthikeyan   \n",
       "2             Akinkuolie, Sarah\n",
       "3                  Alagbe,Trina\n",
       "4                           NaN\n",
       "                 ...           \n",
       "306              Woodson, Jason\n",
       "307          Ybarra, Catherine \n",
       "308                         NaN\n",
       "309                 Zhou, Julia\n",
       "310                         NaN\n",
       "Name: Employee_Name, Length: 311, dtype: object"
      ]
     },
     "execution_count": 659,
     "metadata": {},
     "output_type": "execute_result"
    }
   ],
   "source": [
    "df['Employee_Name']"
   ]
  },
  {
   "cell_type": "code",
   "execution_count": 660,
   "id": "cd471f09",
   "metadata": {},
   "outputs": [],
   "source": [
    "df['Employee_Name'].fillna('',inplace=True)"
   ]
  },
  {
   "cell_type": "code",
   "execution_count": 661,
   "id": "19622a34",
   "metadata": {},
   "outputs": [
    {
     "data": {
      "text/plain": [
       "Female     141\n",
       "Male       108\n",
       "unknown     62\n",
       "Name: Sex, dtype: int64"
      ]
     },
     "execution_count": 661,
     "metadata": {},
     "output_type": "execute_result"
    }
   ],
   "source": [
    "import gender_guesser.detector as gender\n",
    "\n",
    "gd = gender.Detector()\n",
    "df['Sex'].fillna(df['Employee_Name'].map(lambda x: gd.get_gender(x)),inplace=True)\n",
    "df['Sex'].value_counts()\n"
   ]
  },
  {
   "cell_type": "markdown",
   "id": "44b8e68e",
   "metadata": {},
   "source": [
    "### ===================================="
   ]
  },
  {
   "cell_type": "code",
   "execution_count": 662,
   "id": "5b182d7a",
   "metadata": {},
   "outputs": [
    {
     "name": "stdout",
     "output_type": "stream",
     "text": [
      "<class 'pandas.core.series.Series'>\n",
      "RangeIndex: 311 entries, 0 to 310\n",
      "Series name: Sex\n",
      "Non-Null Count  Dtype \n",
      "--------------  ----- \n",
      "311 non-null    object\n",
      "dtypes: object(1)\n",
      "memory usage: 2.6+ KB\n"
     ]
    }
   ],
   "source": [
    "df['Sex'].info()\n"
   ]
  },
  {
   "cell_type": "code",
   "execution_count": 663,
   "id": "9bb929ff",
   "metadata": {},
   "outputs": [],
   "source": [
    "df2=df[df['Sex']=='unknown']"
   ]
  },
  {
   "cell_type": "code",
   "execution_count": 664,
   "id": "6db2a973",
   "metadata": {},
   "outputs": [
    {
     "name": "stderr",
     "output_type": "stream",
     "text": [
      "C:\\Users\\20his\\AppData\\Local\\Temp\\ipykernel_45172\\2017608708.py:1: SettingWithCopyWarning: \n",
      "A value is trying to be set on a copy of a slice from a DataFrame.\n",
      "Try using .loc[row_indexer,col_indexer] = value instead\n",
      "\n",
      "See the caveats in the documentation: https://pandas.pydata.org/pandas-docs/stable/user_guide/indexing.html#returning-a-view-versus-a-copy\n",
      "  df2['Sex'] = np.where(df2['Salary'] > 68971, 'Male', 'Female')\n"
     ]
    }
   ],
   "source": [
    "df2['Sex'] = np.where(df2['Salary'] > 68971, 'Male', 'Female')\n"
   ]
  },
  {
   "cell_type": "code",
   "execution_count": 665,
   "id": "f1ed7209",
   "metadata": {},
   "outputs": [
    {
     "name": "stdout",
     "output_type": "stream",
     "text": [
      "<class 'pandas.core.frame.DataFrame'>\n",
      "Int64Index: 249 entries, 0 to 310\n",
      "Data columns (total 17 columns):\n",
      " #   Column             Non-Null Count  Dtype         \n",
      "---  ------             --------------  -----         \n",
      " 0   Employee_Name      249 non-null    object        \n",
      " 1   EmpID              249 non-null    int64         \n",
      " 2   Salary             249 non-null    int32         \n",
      " 3   PositionID         249 non-null    int64         \n",
      " 4   Position           249 non-null    object        \n",
      " 5   DOB                223 non-null    datetime64[ns]\n",
      " 6   Sex                249 non-null    object        \n",
      " 7   MaritalDesc        249 non-null    object        \n",
      " 8   RaceDesc           249 non-null    object        \n",
      " 9   DateofHire         249 non-null    object        \n",
      " 10  DateofTermination  82 non-null     object        \n",
      " 11  Department         249 non-null    object        \n",
      " 12  ManagerName        249 non-null    object        \n",
      " 13  ManagerID          242 non-null    float64       \n",
      " 14  RecruitmentSource  249 non-null    object        \n",
      " 15  Absences           224 non-null    float64       \n",
      " 16  Age                249 non-null    int32         \n",
      "dtypes: datetime64[ns](1), float64(2), int32(2), int64(2), object(10)\n",
      "memory usage: 33.1+ KB\n"
     ]
    }
   ],
   "source": [
    "df.drop(df.loc[df['Sex']=='unknown'].index, inplace=True)\n",
    "df.info()"
   ]
  },
  {
   "cell_type": "code",
   "execution_count": 666,
   "id": "0ba8d18a",
   "metadata": {},
   "outputs": [
    {
     "name": "stdout",
     "output_type": "stream",
     "text": [
      "<class 'pandas.core.frame.DataFrame'>\n",
      "Int64Index: 62 entries, 9 to 303\n",
      "Data columns (total 17 columns):\n",
      " #   Column             Non-Null Count  Dtype         \n",
      "---  ------             --------------  -----         \n",
      " 0   Employee_Name      62 non-null     object        \n",
      " 1   EmpID              62 non-null     int64         \n",
      " 2   Salary             62 non-null     int32         \n",
      " 3   PositionID         62 non-null     int64         \n",
      " 4   Position           62 non-null     object        \n",
      " 5   DOB                57 non-null     datetime64[ns]\n",
      " 6   Sex                62 non-null     object        \n",
      " 7   MaritalDesc        62 non-null     object        \n",
      " 8   RaceDesc           62 non-null     object        \n",
      " 9   DateofHire         62 non-null     object        \n",
      " 10  DateofTermination  22 non-null     object        \n",
      " 11  Department         62 non-null     object        \n",
      " 12  ManagerName        62 non-null     object        \n",
      " 13  ManagerID          61 non-null     float64       \n",
      " 14  RecruitmentSource  62 non-null     object        \n",
      " 15  Absences           56 non-null     float64       \n",
      " 16  Age                62 non-null     int32         \n",
      "dtypes: datetime64[ns](1), float64(2), int32(2), int64(2), object(10)\n",
      "memory usage: 8.2+ KB\n"
     ]
    }
   ],
   "source": [
    "df2.info()"
   ]
  },
  {
   "cell_type": "code",
   "execution_count": 667,
   "id": "4fb3f630",
   "metadata": {},
   "outputs": [
    {
     "name": "stderr",
     "output_type": "stream",
     "text": [
      "C:\\Users\\20his\\AppData\\Local\\Temp\\ipykernel_45172\\3738837895.py:1: FutureWarning: The frame.append method is deprecated and will be removed from pandas in a future version. Use pandas.concat instead.\n",
      "  df3 = df.append(df2, ignore_index=True)\n"
     ]
    }
   ],
   "source": [
    "df3 = df.append(df2, ignore_index=True)\n"
   ]
  },
  {
   "cell_type": "code",
   "execution_count": 668,
   "id": "a2e72d3f",
   "metadata": {},
   "outputs": [
    {
     "name": "stdout",
     "output_type": "stream",
     "text": [
      "<class 'pandas.core.frame.DataFrame'>\n",
      "RangeIndex: 311 entries, 0 to 310\n",
      "Data columns (total 17 columns):\n",
      " #   Column             Non-Null Count  Dtype         \n",
      "---  ------             --------------  -----         \n",
      " 0   Employee_Name      311 non-null    object        \n",
      " 1   EmpID              311 non-null    int64         \n",
      " 2   Salary             311 non-null    int32         \n",
      " 3   PositionID         311 non-null    int64         \n",
      " 4   Position           311 non-null    object        \n",
      " 5   DOB                280 non-null    datetime64[ns]\n",
      " 6   Sex                311 non-null    object        \n",
      " 7   MaritalDesc        311 non-null    object        \n",
      " 8   RaceDesc           311 non-null    object        \n",
      " 9   DateofHire         311 non-null    object        \n",
      " 10  DateofTermination  104 non-null    object        \n",
      " 11  Department         311 non-null    object        \n",
      " 12  ManagerName        311 non-null    object        \n",
      " 13  ManagerID          303 non-null    float64       \n",
      " 14  RecruitmentSource  311 non-null    object        \n",
      " 15  Absences           280 non-null    float64       \n",
      " 16  Age                311 non-null    int32         \n",
      "dtypes: datetime64[ns](1), float64(2), int32(2), int64(2), object(10)\n",
      "memory usage: 39.0+ KB\n"
     ]
    }
   ],
   "source": [
    "df3.info()"
   ]
  },
  {
   "cell_type": "markdown",
   "id": "5295b2ec",
   "metadata": {},
   "source": [
    "#### We tried to ckech the avarage of female and male salary from the previous questions and we tried to add the sex based on salary"
   ]
  },
  {
   "cell_type": "markdown",
   "id": "680880e6",
   "metadata": {},
   "source": [
    "### DateofTermination"
   ]
  },
  {
   "cell_type": "markdown",
   "id": "1679f2b0",
   "metadata": {},
   "source": [
    "After a small reasearch we can conclude most of the employess have one year contract so we can add 1 yeaar to the hire date "
   ]
  },
  {
   "cell_type": "code",
   "execution_count": 669,
   "id": "ba87c3f7",
   "metadata": {
    "scrolled": true
   },
   "outputs": [],
   "source": [
    "df3['DateofTermination'].fillna('unknown',inplace=True)"
   ]
  },
  {
   "cell_type": "code",
   "execution_count": 670,
   "id": "a20a59af",
   "metadata": {},
   "outputs": [],
   "source": [
    "df4=df3[df3['DateofTermination']=='unknown']"
   ]
  },
  {
   "cell_type": "code",
   "execution_count": 671,
   "id": "2a89915b",
   "metadata": {},
   "outputs": [
    {
     "data": {
      "text/html": [
       "<div>\n",
       "<style scoped>\n",
       "    .dataframe tbody tr th:only-of-type {\n",
       "        vertical-align: middle;\n",
       "    }\n",
       "\n",
       "    .dataframe tbody tr th {\n",
       "        vertical-align: top;\n",
       "    }\n",
       "\n",
       "    .dataframe thead th {\n",
       "        text-align: right;\n",
       "    }\n",
       "</style>\n",
       "<table border=\"1\" class=\"dataframe\">\n",
       "  <thead>\n",
       "    <tr style=\"text-align: right;\">\n",
       "      <th></th>\n",
       "      <th>Employee_Name</th>\n",
       "      <th>EmpID</th>\n",
       "      <th>Salary</th>\n",
       "      <th>PositionID</th>\n",
       "      <th>Position</th>\n",
       "      <th>DOB</th>\n",
       "      <th>Sex</th>\n",
       "      <th>MaritalDesc</th>\n",
       "      <th>RaceDesc</th>\n",
       "      <th>DateofHire</th>\n",
       "      <th>DateofTermination</th>\n",
       "      <th>Department</th>\n",
       "      <th>ManagerName</th>\n",
       "      <th>ManagerID</th>\n",
       "      <th>RecruitmentSource</th>\n",
       "      <th>Absences</th>\n",
       "      <th>Age</th>\n",
       "    </tr>\n",
       "  </thead>\n",
       "  <tbody>\n",
       "    <tr>\n",
       "      <th>0</th>\n",
       "      <td>Adinolfi, Wilson  K</td>\n",
       "      <td>10026</td>\n",
       "      <td>62506</td>\n",
       "      <td>19</td>\n",
       "      <td>Production Technician I</td>\n",
       "      <td>1983-07-10 00:00:00</td>\n",
       "      <td>Male</td>\n",
       "      <td>Single</td>\n",
       "      <td>White</td>\n",
       "      <td>7/5/2011</td>\n",
       "      <td>unknown</td>\n",
       "      <td>Production</td>\n",
       "      <td>Michael Albert</td>\n",
       "      <td>22.0</td>\n",
       "      <td>LinkedIn</td>\n",
       "      <td>1.0</td>\n",
       "      <td>39</td>\n",
       "    </tr>\n",
       "    <tr>\n",
       "      <th>3</th>\n",
       "      <td>Alagbe,Trina</td>\n",
       "      <td>10088</td>\n",
       "      <td>64991</td>\n",
       "      <td>19</td>\n",
       "      <td>Production Technician I</td>\n",
       "      <td>NaT</td>\n",
       "      <td>Female</td>\n",
       "      <td>Married</td>\n",
       "      <td>White</td>\n",
       "      <td>1/7/2008</td>\n",
       "      <td>unknown</td>\n",
       "      <td>Production</td>\n",
       "      <td>Elijiah Gray</td>\n",
       "      <td>16.0</td>\n",
       "      <td>Indeed</td>\n",
       "      <td>15.0</td>\n",
       "      <td>43</td>\n",
       "    </tr>\n",
       "    <tr>\n",
       "      <th>5</th>\n",
       "      <td></td>\n",
       "      <td>10002</td>\n",
       "      <td>57568</td>\n",
       "      <td>19</td>\n",
       "      <td>Production Technician I</td>\n",
       "      <td>1977-05-22 00:00:00</td>\n",
       "      <td>Female</td>\n",
       "      <td>Single</td>\n",
       "      <td>White</td>\n",
       "      <td>1/9/2012</td>\n",
       "      <td>unknown</td>\n",
       "      <td>Production</td>\n",
       "      <td>Amy Dunn</td>\n",
       "      <td>11.0</td>\n",
       "      <td>LinkedIn</td>\n",
       "      <td>15.0</td>\n",
       "      <td>46</td>\n",
       "    </tr>\n",
       "    <tr>\n",
       "      <th>6</th>\n",
       "      <td>Andreola, Colby</td>\n",
       "      <td>10194</td>\n",
       "      <td>95660</td>\n",
       "      <td>24</td>\n",
       "      <td>Software Engineer</td>\n",
       "      <td>1979-05-24 00:00:00</td>\n",
       "      <td>Female</td>\n",
       "      <td>Single</td>\n",
       "      <td>White</td>\n",
       "      <td>11/10/2014</td>\n",
       "      <td>unknown</td>\n",
       "      <td>Software Engineering</td>\n",
       "      <td>Alex Sweetwater</td>\n",
       "      <td>10.0</td>\n",
       "      <td>LinkedIn</td>\n",
       "      <td>19.0</td>\n",
       "      <td>44</td>\n",
       "    </tr>\n",
       "    <tr>\n",
       "      <th>7</th>\n",
       "      <td>Athwal, Sam</td>\n",
       "      <td>10062</td>\n",
       "      <td>59365</td>\n",
       "      <td>19</td>\n",
       "      <td>Production Technician I</td>\n",
       "      <td>1983-02-18 00:00:00</td>\n",
       "      <td>Male</td>\n",
       "      <td>Widowed</td>\n",
       "      <td>White</td>\n",
       "      <td>9/30/2013</td>\n",
       "      <td>unknown</td>\n",
       "      <td>Production</td>\n",
       "      <td>Ketsia Liebig</td>\n",
       "      <td>19.0</td>\n",
       "      <td>Employee Referral</td>\n",
       "      <td>19.0</td>\n",
       "      <td>40</td>\n",
       "    </tr>\n",
       "    <tr>\n",
       "      <th>...</th>\n",
       "      <td>...</td>\n",
       "      <td>...</td>\n",
       "      <td>...</td>\n",
       "      <td>...</td>\n",
       "      <td>...</td>\n",
       "      <td>...</td>\n",
       "      <td>...</td>\n",
       "      <td>...</td>\n",
       "      <td>...</td>\n",
       "      <td>...</td>\n",
       "      <td>...</td>\n",
       "      <td>...</td>\n",
       "      <td>...</td>\n",
       "      <td>...</td>\n",
       "      <td>...</td>\n",
       "      <td>...</td>\n",
       "      <td>...</td>\n",
       "    </tr>\n",
       "    <tr>\n",
       "      <th>302</th>\n",
       "      <td>Sullivan, Timothy</td>\n",
       "      <td>10117</td>\n",
       "      <td>63025</td>\n",
       "      <td>19</td>\n",
       "      <td>Production Technician I</td>\n",
       "      <td>1982-10-07 00:00:00</td>\n",
       "      <td>Female</td>\n",
       "      <td>Married</td>\n",
       "      <td>White</td>\n",
       "      <td>1/5/2015</td>\n",
       "      <td>unknown</td>\n",
       "      <td>Production</td>\n",
       "      <td>Michael Albert</td>\n",
       "      <td>22.0</td>\n",
       "      <td>Google Search</td>\n",
       "      <td>NaN</td>\n",
       "      <td>40</td>\n",
       "    </tr>\n",
       "    <tr>\n",
       "      <th>303</th>\n",
       "      <td>Sutwell, Barbara</td>\n",
       "      <td>10209</td>\n",
       "      <td>67972</td>\n",
       "      <td>19</td>\n",
       "      <td>Production Technician I</td>\n",
       "      <td>1968-08-15 18:00:00</td>\n",
       "      <td>Female</td>\n",
       "      <td>Single</td>\n",
       "      <td>Asian</td>\n",
       "      <td>5/14/2012</td>\n",
       "      <td>unknown</td>\n",
       "      <td>Production</td>\n",
       "      <td>Elijiah Gray</td>\n",
       "      <td>16.0</td>\n",
       "      <td>Indeed</td>\n",
       "      <td>13.0</td>\n",
       "      <td>54</td>\n",
       "    </tr>\n",
       "    <tr>\n",
       "      <th>304</th>\n",
       "      <td></td>\n",
       "      <td>10024</td>\n",
       "      <td>92989</td>\n",
       "      <td>24</td>\n",
       "      <td>Software Engineer</td>\n",
       "      <td>1983-05-06 00:00:00</td>\n",
       "      <td>Male</td>\n",
       "      <td>Single</td>\n",
       "      <td>White</td>\n",
       "      <td>7/7/2014</td>\n",
       "      <td>unknown</td>\n",
       "      <td>Software Engineering</td>\n",
       "      <td>Alex Sweetwater</td>\n",
       "      <td>10.0</td>\n",
       "      <td>LinkedIn</td>\n",
       "      <td>1.0</td>\n",
       "      <td>40</td>\n",
       "    </tr>\n",
       "    <tr>\n",
       "      <th>306</th>\n",
       "      <td>Valentin,Jackie</td>\n",
       "      <td>10205</td>\n",
       "      <td>57859</td>\n",
       "      <td>3</td>\n",
       "      <td>Area Sales Manager</td>\n",
       "      <td>1991-05-23 00:00:00</td>\n",
       "      <td>Female</td>\n",
       "      <td>Married</td>\n",
       "      <td>Two or more races</td>\n",
       "      <td>7/5/2011</td>\n",
       "      <td>unknown</td>\n",
       "      <td>Sales</td>\n",
       "      <td>John Smith</td>\n",
       "      <td>17.0</td>\n",
       "      <td>Indeed</td>\n",
       "      <td>16.0</td>\n",
       "      <td>32</td>\n",
       "    </tr>\n",
       "    <tr>\n",
       "      <th>307</th>\n",
       "      <td>Villanueva, Noah</td>\n",
       "      <td>10253</td>\n",
       "      <td>55875</td>\n",
       "      <td>3</td>\n",
       "      <td>Area Sales Manager</td>\n",
       "      <td>1989-07-11 00:00:00</td>\n",
       "      <td>Female</td>\n",
       "      <td>Single</td>\n",
       "      <td>Asian</td>\n",
       "      <td>3/5/2012</td>\n",
       "      <td>unknown</td>\n",
       "      <td>Sales</td>\n",
       "      <td>John Smith</td>\n",
       "      <td>17.0</td>\n",
       "      <td>Website</td>\n",
       "      <td>11.0</td>\n",
       "      <td>33</td>\n",
       "    </tr>\n",
       "  </tbody>\n",
       "</table>\n",
       "<p>207 rows × 17 columns</p>\n",
       "</div>"
      ],
      "text/plain": [
       "           Employee_Name  EmpID  Salary  PositionID                 Position  \\\n",
       "0    Adinolfi, Wilson  K  10026   62506          19  Production Technician I   \n",
       "3           Alagbe,Trina  10088   64991          19  Production Technician I   \n",
       "5                         10002   57568          19  Production Technician I   \n",
       "6        Andreola, Colby  10194   95660          24        Software Engineer   \n",
       "7            Athwal, Sam  10062   59365          19  Production Technician I   \n",
       "..                   ...    ...     ...         ...                      ...   \n",
       "302    Sullivan, Timothy  10117   63025          19  Production Technician I   \n",
       "303     Sutwell, Barbara  10209   67972          19  Production Technician I   \n",
       "304                       10024   92989          24        Software Engineer   \n",
       "306      Valentin,Jackie  10205   57859           3       Area Sales Manager   \n",
       "307     Villanueva, Noah  10253   55875           3       Area Sales Manager   \n",
       "\n",
       "                    DOB     Sex MaritalDesc           RaceDesc  DateofHire  \\\n",
       "0   1983-07-10 00:00:00    Male      Single              White    7/5/2011   \n",
       "3                   NaT  Female     Married              White    1/7/2008   \n",
       "5   1977-05-22 00:00:00  Female      Single              White    1/9/2012   \n",
       "6   1979-05-24 00:00:00  Female      Single              White  11/10/2014   \n",
       "7   1983-02-18 00:00:00    Male     Widowed              White   9/30/2013   \n",
       "..                  ...     ...         ...                ...         ...   \n",
       "302 1982-10-07 00:00:00  Female     Married              White    1/5/2015   \n",
       "303 1968-08-15 18:00:00  Female      Single              Asian   5/14/2012   \n",
       "304 1983-05-06 00:00:00    Male      Single              White    7/7/2014   \n",
       "306 1991-05-23 00:00:00  Female     Married  Two or more races    7/5/2011   \n",
       "307 1989-07-11 00:00:00  Female      Single              Asian    3/5/2012   \n",
       "\n",
       "    DateofTermination            Department      ManagerName  ManagerID  \\\n",
       "0             unknown     Production          Michael Albert       22.0   \n",
       "3             unknown     Production            Elijiah Gray       16.0   \n",
       "5             unknown     Production                Amy Dunn       11.0   \n",
       "6             unknown  Software Engineering  Alex Sweetwater       10.0   \n",
       "7             unknown     Production           Ketsia Liebig       19.0   \n",
       "..                ...                   ...              ...        ...   \n",
       "302           unknown     Production          Michael Albert       22.0   \n",
       "303           unknown     Production            Elijiah Gray       16.0   \n",
       "304           unknown  Software Engineering  Alex Sweetwater       10.0   \n",
       "306           unknown                 Sales       John Smith       17.0   \n",
       "307           unknown                 Sales       John Smith       17.0   \n",
       "\n",
       "     RecruitmentSource  Absences  Age  \n",
       "0             LinkedIn       1.0   39  \n",
       "3               Indeed      15.0   43  \n",
       "5             LinkedIn      15.0   46  \n",
       "6             LinkedIn      19.0   44  \n",
       "7    Employee Referral      19.0   40  \n",
       "..                 ...       ...  ...  \n",
       "302      Google Search       NaN   40  \n",
       "303             Indeed      13.0   54  \n",
       "304           LinkedIn       1.0   40  \n",
       "306             Indeed      16.0   32  \n",
       "307            Website      11.0   33  \n",
       "\n",
       "[207 rows x 17 columns]"
      ]
     },
     "execution_count": 671,
     "metadata": {},
     "output_type": "execute_result"
    }
   ],
   "source": [
    "df4"
   ]
  },
  {
   "cell_type": "code",
   "execution_count": 672,
   "id": "c0be3e11",
   "metadata": {},
   "outputs": [],
   "source": [
    "df3.drop(df3.loc[df3['DateofTermination']=='unknown'].index, inplace=True)\n"
   ]
  },
  {
   "cell_type": "code",
   "execution_count": 673,
   "id": "565baeea",
   "metadata": {},
   "outputs": [
    {
     "name": "stdout",
     "output_type": "stream",
     "text": [
      "<class 'pandas.core.frame.DataFrame'>\n",
      "Int64Index: 104 entries, 1 to 310\n",
      "Data columns (total 17 columns):\n",
      " #   Column             Non-Null Count  Dtype         \n",
      "---  ------             --------------  -----         \n",
      " 0   Employee_Name      104 non-null    object        \n",
      " 1   EmpID              104 non-null    int64         \n",
      " 2   Salary             104 non-null    int32         \n",
      " 3   PositionID         104 non-null    int64         \n",
      " 4   Position           104 non-null    object        \n",
      " 5   DOB                91 non-null     datetime64[ns]\n",
      " 6   Sex                104 non-null    object        \n",
      " 7   MaritalDesc        104 non-null    object        \n",
      " 8   RaceDesc           104 non-null    object        \n",
      " 9   DateofHire         104 non-null    object        \n",
      " 10  DateofTermination  104 non-null    object        \n",
      " 11  Department         104 non-null    object        \n",
      " 12  ManagerName        104 non-null    object        \n",
      " 13  ManagerID          104 non-null    float64       \n",
      " 14  RecruitmentSource  104 non-null    object        \n",
      " 15  Absences           93 non-null     float64       \n",
      " 16  Age                104 non-null    int32         \n",
      "dtypes: datetime64[ns](1), float64(2), int32(2), int64(2), object(10)\n",
      "memory usage: 13.8+ KB\n"
     ]
    }
   ],
   "source": [
    "df3.info()"
   ]
  },
  {
   "cell_type": "code",
   "execution_count": 674,
   "id": "37c53cef",
   "metadata": {
    "scrolled": true
   },
   "outputs": [],
   "source": [
    "#df4['DateofTermination']=pd.to_datetime(df4['DateofTermination'], infer_datetime_format=True)"
   ]
  },
  {
   "cell_type": "code",
   "execution_count": 675,
   "id": "940beb80",
   "metadata": {},
   "outputs": [
    {
     "name": "stderr",
     "output_type": "stream",
     "text": [
      "C:\\Users\\20his\\AppData\\Local\\Temp\\ipykernel_45172\\2507571787.py:1: SettingWithCopyWarning: \n",
      "A value is trying to be set on a copy of a slice from a DataFrame.\n",
      "Try using .loc[row_indexer,col_indexer] = value instead\n",
      "\n",
      "See the caveats in the documentation: https://pandas.pydata.org/pandas-docs/stable/user_guide/indexing.html#returning-a-view-versus-a-copy\n",
      "  df4['DateofHire']=pd.to_datetime(df4['DateofHire'], infer_datetime_format=True)\n"
     ]
    }
   ],
   "source": [
    "df4['DateofHire']=pd.to_datetime(df4['DateofHire'], infer_datetime_format=True)"
   ]
  },
  {
   "cell_type": "code",
   "execution_count": 676,
   "id": "7b3226c5",
   "metadata": {},
   "outputs": [
    {
     "name": "stderr",
     "output_type": "stream",
     "text": [
      "C:\\Users\\20his\\AppData\\Local\\Temp\\ipykernel_45172\\1847196239.py:1: SettingWithCopyWarning: \n",
      "A value is trying to be set on a copy of a slice from a DataFrame.\n",
      "Try using .loc[row_indexer,col_indexer] = value instead\n",
      "\n",
      "See the caveats in the documentation: https://pandas.pydata.org/pandas-docs/stable/user_guide/indexing.html#returning-a-view-versus-a-copy\n",
      "  df4['DateofTermination'] = df4['DateofHire'] + pd.offsets.DateOffset(years=1)\n"
     ]
    }
   ],
   "source": [
    "df4['DateofTermination'] = df4['DateofHire'] + pd.offsets.DateOffset(years=1)"
   ]
  },
  {
   "cell_type": "code",
   "execution_count": 677,
   "id": "1093dc82",
   "metadata": {},
   "outputs": [
    {
     "name": "stderr",
     "output_type": "stream",
     "text": [
      "C:\\Users\\20his\\AppData\\Local\\Temp\\ipykernel_45172\\1060644288.py:1: FutureWarning: The frame.append method is deprecated and will be removed from pandas in a future version. Use pandas.concat instead.\n",
      "  df5 = df4.append(df3, ignore_index=True)\n"
     ]
    }
   ],
   "source": [
    "df5 = df4.append(df3, ignore_index=True)\n"
   ]
  },
  {
   "cell_type": "code",
   "execution_count": 678,
   "id": "79cc0617",
   "metadata": {},
   "outputs": [
    {
     "name": "stdout",
     "output_type": "stream",
     "text": [
      "<class 'pandas.core.frame.DataFrame'>\n",
      "RangeIndex: 311 entries, 0 to 310\n",
      "Data columns (total 17 columns):\n",
      " #   Column             Non-Null Count  Dtype         \n",
      "---  ------             --------------  -----         \n",
      " 0   Employee_Name      311 non-null    object        \n",
      " 1   EmpID              311 non-null    int64         \n",
      " 2   Salary             311 non-null    int32         \n",
      " 3   PositionID         311 non-null    int64         \n",
      " 4   Position           311 non-null    object        \n",
      " 5   DOB                280 non-null    datetime64[ns]\n",
      " 6   Sex                311 non-null    object        \n",
      " 7   MaritalDesc        311 non-null    object        \n",
      " 8   RaceDesc           311 non-null    object        \n",
      " 9   DateofHire         311 non-null    object        \n",
      " 10  DateofTermination  311 non-null    object        \n",
      " 11  Department         311 non-null    object        \n",
      " 12  ManagerName        311 non-null    object        \n",
      " 13  ManagerID          303 non-null    float64       \n",
      " 14  RecruitmentSource  311 non-null    object        \n",
      " 15  Absences           280 non-null    float64       \n",
      " 16  Age                311 non-null    int32         \n",
      "dtypes: datetime64[ns](1), float64(2), int32(2), int64(2), object(10)\n",
      "memory usage: 39.0+ KB\n"
     ]
    }
   ],
   "source": [
    "df5.info()"
   ]
  },
  {
   "cell_type": "code",
   "execution_count": 679,
   "id": "3de22e00",
   "metadata": {},
   "outputs": [],
   "source": [
    "\n",
    "import datetime as dt\n",
    "df5['DateofTermination'] = pd.to_datetime(df5['DateofTermination']).dt.date\n",
    "df5['DateofHire'] = pd.to_datetime(df5['DateofHire']).dt.date"
   ]
  },
  {
   "cell_type": "markdown",
   "id": "479abc96",
   "metadata": {},
   "source": [
    "### Absences"
   ]
  },
  {
   "cell_type": "markdown",
   "id": "8ca9f24b",
   "metadata": {},
   "source": [
    "For the absence we will consider the null value mean that there is no absences there and will be filled with 0"
   ]
  },
  {
   "cell_type": "code",
   "execution_count": 680,
   "id": "a41d4412",
   "metadata": {},
   "outputs": [],
   "source": [
    "df5['Absences'].fillna(0,inplace=True)"
   ]
  },
  {
   "cell_type": "code",
   "execution_count": 681,
   "id": "9f0942eb",
   "metadata": {},
   "outputs": [
    {
     "data": {
      "text/plain": [
       "Employee_Name          0\n",
       "EmpID                  0\n",
       "Salary                 0\n",
       "PositionID             0\n",
       "Position               0\n",
       "DOB                   26\n",
       "Sex                    0\n",
       "MaritalDesc            0\n",
       "RaceDesc               0\n",
       "DateofHire             0\n",
       "DateofTermination    167\n",
       "Department             0\n",
       "ManagerName            0\n",
       "ManagerID              7\n",
       "RecruitmentSource      0\n",
       "Absences              25\n",
       "Age                    0\n",
       "dtype: int64"
      ]
     },
     "execution_count": 681,
     "metadata": {},
     "output_type": "execute_result"
    }
   ],
   "source": [
    "df.isnull().sum()"
   ]
  },
  {
   "cell_type": "code",
   "execution_count": 682,
   "id": "df55e86d",
   "metadata": {},
   "outputs": [
    {
     "data": {
      "text/plain": [
       "Employee_Name         0\n",
       "EmpID                 0\n",
       "Salary                0\n",
       "PositionID            0\n",
       "Position              0\n",
       "DOB                  31\n",
       "Sex                   0\n",
       "MaritalDesc           0\n",
       "RaceDesc              0\n",
       "DateofHire            0\n",
       "DateofTermination     0\n",
       "Department            0\n",
       "ManagerName           0\n",
       "ManagerID             8\n",
       "RecruitmentSource     0\n",
       "Absences              0\n",
       "Age                   0\n",
       "dtype: int64"
      ]
     },
     "execution_count": 682,
     "metadata": {},
     "output_type": "execute_result"
    }
   ],
   "source": [
    "df5.isnull().sum()"
   ]
  },
  {
   "cell_type": "code",
   "execution_count": 683,
   "id": "cba34430",
   "metadata": {},
   "outputs": [
    {
     "data": {
      "text/html": [
       "<div>\n",
       "<style scoped>\n",
       "    .dataframe tbody tr th:only-of-type {\n",
       "        vertical-align: middle;\n",
       "    }\n",
       "\n",
       "    .dataframe tbody tr th {\n",
       "        vertical-align: top;\n",
       "    }\n",
       "\n",
       "    .dataframe thead th {\n",
       "        text-align: right;\n",
       "    }\n",
       "</style>\n",
       "<table border=\"1\" class=\"dataframe\">\n",
       "  <thead>\n",
       "    <tr style=\"text-align: right;\">\n",
       "      <th></th>\n",
       "      <th>Employee_Name</th>\n",
       "      <th>EmpID</th>\n",
       "      <th>Salary</th>\n",
       "      <th>PositionID</th>\n",
       "      <th>Position</th>\n",
       "      <th>DOB</th>\n",
       "      <th>Sex</th>\n",
       "      <th>MaritalDesc</th>\n",
       "      <th>RaceDesc</th>\n",
       "      <th>DateofHire</th>\n",
       "      <th>DateofTermination</th>\n",
       "      <th>Department</th>\n",
       "      <th>ManagerName</th>\n",
       "      <th>ManagerID</th>\n",
       "      <th>RecruitmentSource</th>\n",
       "      <th>Absences</th>\n",
       "      <th>Age</th>\n",
       "    </tr>\n",
       "  </thead>\n",
       "  <tbody>\n",
       "    <tr>\n",
       "      <th>0</th>\n",
       "      <td>Adinolfi, Wilson  K</td>\n",
       "      <td>10026</td>\n",
       "      <td>62506</td>\n",
       "      <td>19</td>\n",
       "      <td>Production Technician I</td>\n",
       "      <td>1983-07-10</td>\n",
       "      <td>Male</td>\n",
       "      <td>Single</td>\n",
       "      <td>White</td>\n",
       "      <td>2011-07-05</td>\n",
       "      <td>2012-07-05</td>\n",
       "      <td>Production</td>\n",
       "      <td>Michael Albert</td>\n",
       "      <td>22.0</td>\n",
       "      <td>LinkedIn</td>\n",
       "      <td>1.0</td>\n",
       "      <td>39</td>\n",
       "    </tr>\n",
       "    <tr>\n",
       "      <th>1</th>\n",
       "      <td>Alagbe,Trina</td>\n",
       "      <td>10088</td>\n",
       "      <td>64991</td>\n",
       "      <td>19</td>\n",
       "      <td>Production Technician I</td>\n",
       "      <td>NaT</td>\n",
       "      <td>Female</td>\n",
       "      <td>Married</td>\n",
       "      <td>White</td>\n",
       "      <td>2008-01-07</td>\n",
       "      <td>2009-01-07</td>\n",
       "      <td>Production</td>\n",
       "      <td>Elijiah Gray</td>\n",
       "      <td>16.0</td>\n",
       "      <td>Indeed</td>\n",
       "      <td>15.0</td>\n",
       "      <td>43</td>\n",
       "    </tr>\n",
       "    <tr>\n",
       "      <th>2</th>\n",
       "      <td></td>\n",
       "      <td>10002</td>\n",
       "      <td>57568</td>\n",
       "      <td>19</td>\n",
       "      <td>Production Technician I</td>\n",
       "      <td>1977-05-22</td>\n",
       "      <td>Female</td>\n",
       "      <td>Single</td>\n",
       "      <td>White</td>\n",
       "      <td>2012-01-09</td>\n",
       "      <td>2013-01-09</td>\n",
       "      <td>Production</td>\n",
       "      <td>Amy Dunn</td>\n",
       "      <td>11.0</td>\n",
       "      <td>LinkedIn</td>\n",
       "      <td>15.0</td>\n",
       "      <td>46</td>\n",
       "    </tr>\n",
       "    <tr>\n",
       "      <th>3</th>\n",
       "      <td>Andreola, Colby</td>\n",
       "      <td>10194</td>\n",
       "      <td>95660</td>\n",
       "      <td>24</td>\n",
       "      <td>Software Engineer</td>\n",
       "      <td>1979-05-24</td>\n",
       "      <td>Female</td>\n",
       "      <td>Single</td>\n",
       "      <td>White</td>\n",
       "      <td>2014-11-10</td>\n",
       "      <td>2015-11-10</td>\n",
       "      <td>Software Engineering</td>\n",
       "      <td>Alex Sweetwater</td>\n",
       "      <td>10.0</td>\n",
       "      <td>LinkedIn</td>\n",
       "      <td>19.0</td>\n",
       "      <td>44</td>\n",
       "    </tr>\n",
       "    <tr>\n",
       "      <th>4</th>\n",
       "      <td>Athwal, Sam</td>\n",
       "      <td>10062</td>\n",
       "      <td>59365</td>\n",
       "      <td>19</td>\n",
       "      <td>Production Technician I</td>\n",
       "      <td>1983-02-18</td>\n",
       "      <td>Male</td>\n",
       "      <td>Widowed</td>\n",
       "      <td>White</td>\n",
       "      <td>2013-09-30</td>\n",
       "      <td>2014-09-30</td>\n",
       "      <td>Production</td>\n",
       "      <td>Ketsia Liebig</td>\n",
       "      <td>19.0</td>\n",
       "      <td>Employee Referral</td>\n",
       "      <td>19.0</td>\n",
       "      <td>40</td>\n",
       "    </tr>\n",
       "  </tbody>\n",
       "</table>\n",
       "</div>"
      ],
      "text/plain": [
       "         Employee_Name  EmpID  Salary  PositionID                 Position  \\\n",
       "0  Adinolfi, Wilson  K  10026   62506          19  Production Technician I   \n",
       "1         Alagbe,Trina  10088   64991          19  Production Technician I   \n",
       "2                       10002   57568          19  Production Technician I   \n",
       "3      Andreola, Colby  10194   95660          24        Software Engineer   \n",
       "4          Athwal, Sam  10062   59365          19  Production Technician I   \n",
       "\n",
       "         DOB     Sex MaritalDesc RaceDesc  DateofHire DateofTermination  \\\n",
       "0 1983-07-10    Male      Single    White  2011-07-05        2012-07-05   \n",
       "1        NaT  Female     Married    White  2008-01-07        2009-01-07   \n",
       "2 1977-05-22  Female      Single    White  2012-01-09        2013-01-09   \n",
       "3 1979-05-24  Female      Single    White  2014-11-10        2015-11-10   \n",
       "4 1983-02-18    Male     Widowed    White  2013-09-30        2014-09-30   \n",
       "\n",
       "             Department      ManagerName  ManagerID  RecruitmentSource  \\\n",
       "0     Production          Michael Albert       22.0           LinkedIn   \n",
       "1     Production            Elijiah Gray       16.0             Indeed   \n",
       "2     Production                Amy Dunn       11.0           LinkedIn   \n",
       "3  Software Engineering  Alex Sweetwater       10.0           LinkedIn   \n",
       "4     Production           Ketsia Liebig       19.0  Employee Referral   \n",
       "\n",
       "   Absences  Age  \n",
       "0       1.0   39  \n",
       "1      15.0   43  \n",
       "2      15.0   46  \n",
       "3      19.0   44  \n",
       "4      19.0   40  "
      ]
     },
     "execution_count": 683,
     "metadata": {},
     "output_type": "execute_result"
    }
   ],
   "source": [
    "df5.head()"
   ]
  },
  {
   "cell_type": "markdown",
   "id": "0d4ef186",
   "metadata": {},
   "source": [
    "# Done"
   ]
  },
  {
   "cell_type": "code",
   "execution_count": null,
   "id": "ca4321d4",
   "metadata": {},
   "outputs": [],
   "source": []
  }
 ],
 "metadata": {
  "kernelspec": {
   "display_name": "Python 3 (ipykernel)",
   "language": "python",
   "name": "python3"
  },
  "language_info": {
   "codemirror_mode": {
    "name": "ipython",
    "version": 3
   },
   "file_extension": ".py",
   "mimetype": "text/x-python",
   "name": "python",
   "nbconvert_exporter": "python",
   "pygments_lexer": "ipython3",
   "version": "3.9.12"
  }
 },
 "nbformat": 4,
 "nbformat_minor": 5
}
