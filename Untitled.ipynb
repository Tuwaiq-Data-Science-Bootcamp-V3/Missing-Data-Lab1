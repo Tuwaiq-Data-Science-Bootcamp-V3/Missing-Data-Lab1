{
 "cells": [
  {
   "cell_type": "code",
   "execution_count": 3,
   "id": "b985c572",
   "metadata": {},
   "outputs": [],
   "source": [
    "import pandas as pd \n",
    "import numpy as np\n",
    "import seaborn as sns\n",
    "import plotly.express as px\n",
    "import matplotlib.pyplot as plt\n",
    "import warnings\n",
    "warnings.filterwarnings(\"ignore\")"
   ]
  },
  {
   "cell_type": "code",
   "execution_count": null,
   "id": "58ac41c2",
   "metadata": {},
   "outputs": [],
   "source": []
  },
  {
   "cell_type": "code",
   "execution_count": null,
   "id": "908efc97",
   "metadata": {},
   "outputs": [],
   "source": []
  },
  {
   "cell_type": "code",
   "execution_count": null,
   "id": "a10c32bc",
   "metadata": {},
   "outputs": [],
   "source": []
  },
  {
   "cell_type": "code",
   "execution_count": 8,
   "id": "f7f6d861",
   "metadata": {},
   "outputs": [],
   "source": []
  },
  {
   "cell_type": "code",
   "execution_count": 10,
   "id": "82f4c5f5",
   "metadata": {},
   "outputs": [
    {
     "name": "stdout",
     "output_type": "stream",
     "text": [
      "Rana graduated\n"
     ]
    }
   ],
   "source": [
    "print(\"Rana graduated\")"
   ]
  },
  {
   "cell_type": "code",
   "execution_count": 13,
   "id": "bdd660d4",
   "metadata": {},
   "outputs": [
    {
     "name": "stdout",
     "output_type": "stream",
     "text": [
      "Rana graduated\n",
      "Rana graduated\n",
      "Rana graduated\n",
      "Rana graduated\n",
      "Rana graduated\n",
      "Rana graduated\n",
      "Rana graduated\n",
      "Rana graduated\n",
      "Rana graduated\n",
      "Rana graduated\n",
      "Rana graduated\n",
      "Rana graduated\n",
      "Rana graduated\n",
      "Rana graduated\n",
      "Rana graduated\n",
      "Rana graduated\n",
      "Rana graduated\n",
      "Rana graduated\n",
      "Rana graduated\n",
      "Rana graduated\n"
     ]
    }
   ],
   "source": [
    "for i in range(1 ,100,5):\n",
    "  print(\"Rana graduated\")"
   ]
  },
  {
   "cell_type": "code",
   "execution_count": null,
   "id": "d1d33163",
   "metadata": {},
   "outputs": [],
   "source": []
  }
 ],
 "metadata": {
  "kernelspec": {
   "display_name": "Python 3 (ipykernel)",
   "language": "python",
   "name": "python3"
  },
  "language_info": {
   "codemirror_mode": {
    "name": "ipython",
    "version": 3
   },
   "file_extension": ".py",
   "mimetype": "text/x-python",
   "name": "python",
   "nbconvert_exporter": "python",
   "pygments_lexer": "ipython3",
   "version": "3.10.9"
  }
 },
 "nbformat": 4,
 "nbformat_minor": 5
}
